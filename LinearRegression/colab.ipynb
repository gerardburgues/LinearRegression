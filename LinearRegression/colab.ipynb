{
 "nbformat": 4,
 "nbformat_minor": 0,
 "metadata": {
  "colab": {
   "name": "Untitled1.ipynb",
   "provenance": [],
   "collapsed_sections": []
  },
  "kernelspec": {
   "name": "python3",
   "language": "python",
   "display_name": "Python 3 (ipykernel)"
  },
  "language_info": {
   "name": "python"
  }
 },
 "cells": [
  {
   "cell_type": "markdown",
   "metadata": {
    "id": "bs_6C1-0ecwH"
   },
   "source": []
  },
  {
   "cell_type": "code",
   "metadata": {
    "id": "OMPXRwN2eb2W"
   },
   "source": [],
   "execution_count": 94,
   "outputs": []
  },
  {
   "cell_type": "markdown",
   "metadata": {
    "id": "n1otHuldefWb"
   },
   "source": [
    "# **Llibreries**\n",
    "Importem les llibreries que voldrem utilitzar en el projecte."
   ]
  },
  {
   "cell_type": "code",
   "metadata": {
    "id": "cl1M_141ekbs"
   },
   "source": [
    "import numpy as np\n",
    "import pandas as pd\n",
    "import scipy.stats\n",
    "import seaborn as sns\n",
    "from matplotlib import pyplot as plt"
   ],
   "execution_count": 95,
   "outputs": []
  },
  {
   "cell_type": "code",
   "metadata": {
    "id": "YmO8PEzljoc-"
   },
   "source": [
    "from sklearn.datasets import make_regression\n",
    "from sklearn.model_selection import train_test_split\n",
    "\n"
   ],
   "execution_count": 96,
   "outputs": []
  },
  {
   "cell_type": "markdown",
   "metadata": {
    "id": "YwN3y5BVe7Qe"
   },
   "source": [
    "# **Dades**\n",
    "Llegim el csv amb totes les dades disponibles i les mostrem per pantalla"
   ]
  },
  {
   "cell_type": "code",
   "metadata": {
    "id": "Dm6IUUO7fGM8"
   },
   "source": [
    "from sklearn.preprocessing import MinMaxScaler\n",
    "data = pd.read_csv(\"student-mat.csv\")"
   ],
   "execution_count": 97,
   "outputs": []
  },
  {
   "cell_type": "code",
   "metadata": {
    "colab": {
     "base_uri": "https://localhost:8080/",
     "height": 226
    },
    "id": "ftJ_OpZBfsI6",
    "outputId": "b3d37bc2-4ecd-4204-d835-21a9007bd32a"
   },
   "source": [
    "data.head()"
   ],
   "execution_count": 98,
   "outputs": [
    {
     "data": {
      "text/plain": "  school sex  age address famsize Pstatus  Medu  Fedu     Mjob      Fjob  ...  \\\n0     GP   F   18       U     GT3       A     4     4  at_home   teacher  ...   \n1     GP   F   17       U     GT3       T     1     1  at_home     other  ...   \n2     GP   F   15       U     LE3       T     1     1  at_home     other  ...   \n3     GP   F   15       U     GT3       T     4     2   health  services  ...   \n4     GP   F   16       U     GT3       T     3     3    other     other  ...   \n\n  famrel freetime  goout  Dalc  Walc health absences  G1  G2  G3  \n0      4        3      4     1     1      3        6   5   6   6  \n1      5        3      3     1     1      3        4   5   5   6  \n2      4        3      2     2     3      3       10   7   8  10  \n3      3        2      2     1     1      5        2  15  14  15  \n4      4        3      2     1     2      5        4   6  10  10  \n\n[5 rows x 33 columns]",
      "text/html": "<div>\n<style scoped>\n    .dataframe tbody tr th:only-of-type {\n        vertical-align: middle;\n    }\n\n    .dataframe tbody tr th {\n        vertical-align: top;\n    }\n\n    .dataframe thead th {\n        text-align: right;\n    }\n</style>\n<table border=\"1\" class=\"dataframe\">\n  <thead>\n    <tr style=\"text-align: right;\">\n      <th></th>\n      <th>school</th>\n      <th>sex</th>\n      <th>age</th>\n      <th>address</th>\n      <th>famsize</th>\n      <th>Pstatus</th>\n      <th>Medu</th>\n      <th>Fedu</th>\n      <th>Mjob</th>\n      <th>Fjob</th>\n      <th>...</th>\n      <th>famrel</th>\n      <th>freetime</th>\n      <th>goout</th>\n      <th>Dalc</th>\n      <th>Walc</th>\n      <th>health</th>\n      <th>absences</th>\n      <th>G1</th>\n      <th>G2</th>\n      <th>G3</th>\n    </tr>\n  </thead>\n  <tbody>\n    <tr>\n      <th>0</th>\n      <td>GP</td>\n      <td>F</td>\n      <td>18</td>\n      <td>U</td>\n      <td>GT3</td>\n      <td>A</td>\n      <td>4</td>\n      <td>4</td>\n      <td>at_home</td>\n      <td>teacher</td>\n      <td>...</td>\n      <td>4</td>\n      <td>3</td>\n      <td>4</td>\n      <td>1</td>\n      <td>1</td>\n      <td>3</td>\n      <td>6</td>\n      <td>5</td>\n      <td>6</td>\n      <td>6</td>\n    </tr>\n    <tr>\n      <th>1</th>\n      <td>GP</td>\n      <td>F</td>\n      <td>17</td>\n      <td>U</td>\n      <td>GT3</td>\n      <td>T</td>\n      <td>1</td>\n      <td>1</td>\n      <td>at_home</td>\n      <td>other</td>\n      <td>...</td>\n      <td>5</td>\n      <td>3</td>\n      <td>3</td>\n      <td>1</td>\n      <td>1</td>\n      <td>3</td>\n      <td>4</td>\n      <td>5</td>\n      <td>5</td>\n      <td>6</td>\n    </tr>\n    <tr>\n      <th>2</th>\n      <td>GP</td>\n      <td>F</td>\n      <td>15</td>\n      <td>U</td>\n      <td>LE3</td>\n      <td>T</td>\n      <td>1</td>\n      <td>1</td>\n      <td>at_home</td>\n      <td>other</td>\n      <td>...</td>\n      <td>4</td>\n      <td>3</td>\n      <td>2</td>\n      <td>2</td>\n      <td>3</td>\n      <td>3</td>\n      <td>10</td>\n      <td>7</td>\n      <td>8</td>\n      <td>10</td>\n    </tr>\n    <tr>\n      <th>3</th>\n      <td>GP</td>\n      <td>F</td>\n      <td>15</td>\n      <td>U</td>\n      <td>GT3</td>\n      <td>T</td>\n      <td>4</td>\n      <td>2</td>\n      <td>health</td>\n      <td>services</td>\n      <td>...</td>\n      <td>3</td>\n      <td>2</td>\n      <td>2</td>\n      <td>1</td>\n      <td>1</td>\n      <td>5</td>\n      <td>2</td>\n      <td>15</td>\n      <td>14</td>\n      <td>15</td>\n    </tr>\n    <tr>\n      <th>4</th>\n      <td>GP</td>\n      <td>F</td>\n      <td>16</td>\n      <td>U</td>\n      <td>GT3</td>\n      <td>T</td>\n      <td>3</td>\n      <td>3</td>\n      <td>other</td>\n      <td>other</td>\n      <td>...</td>\n      <td>4</td>\n      <td>3</td>\n      <td>2</td>\n      <td>1</td>\n      <td>2</td>\n      <td>5</td>\n      <td>4</td>\n      <td>6</td>\n      <td>10</td>\n      <td>10</td>\n    </tr>\n  </tbody>\n</table>\n<p>5 rows × 33 columns</p>\n</div>"
     },
     "execution_count": 98,
     "metadata": {},
     "output_type": "execute_result"
    }
   ]
  },
  {
   "cell_type": "markdown",
   "metadata": {
    "id": "43Pkk0K3f20B"
   },
   "source": [
    "Podem veure totes les variables. <br>Podem trobar més informació com quantes columnes i files tenim. (Podemos explicar todas las variables aquí).\n"
   ]
  },
  {
   "cell_type": "code",
   "metadata": {
    "colab": {
     "base_uri": "https://localhost:8080/"
    },
    "id": "LmBmeEY3hgKS",
    "outputId": "243c3113-5386-4f19-adbb-9b3b19ad0f99"
   },
   "source": [
    "data.shape"
   ],
   "execution_count": 99,
   "outputs": [
    {
     "data": {
      "text/plain": "(395, 33)"
     },
     "execution_count": 99,
     "metadata": {},
     "output_type": "execute_result"
    }
   ]
  },
  {
   "cell_type": "markdown",
   "metadata": {
    "id": "J6W9dpcRhoAn"
   },
   "source": [
    "Tenim 395 files i 33 columnes. <br>\n",
    "Més info\n"
   ]
  },
  {
   "cell_type": "code",
   "metadata": {
    "colab": {
     "base_uri": "https://localhost:8080/",
     "height": 320
    },
    "id": "besd1ryNiD6P",
    "outputId": "939addcb-e046-4ffe-c4d2-7502623b1a2b"
   },
   "source": [
    "data.describe()"
   ],
   "execution_count": 100,
   "outputs": [
    {
     "data": {
      "text/plain": "              age        Medu        Fedu  traveltime   studytime    failures  \\\ncount  395.000000  395.000000  395.000000  395.000000  395.000000  395.000000   \nmean    16.696203    2.749367    2.521519    1.448101    2.035443    0.334177   \nstd      1.276043    1.094735    1.088201    0.697505    0.839240    0.743651   \nmin     15.000000    0.000000    0.000000    1.000000    1.000000    0.000000   \n25%     16.000000    2.000000    2.000000    1.000000    1.000000    0.000000   \n50%     17.000000    3.000000    2.000000    1.000000    2.000000    0.000000   \n75%     18.000000    4.000000    3.000000    2.000000    2.000000    0.000000   \nmax     22.000000    4.000000    4.000000    4.000000    4.000000    3.000000   \n\n           famrel    freetime       goout        Dalc        Walc      health  \\\ncount  395.000000  395.000000  395.000000  395.000000  395.000000  395.000000   \nmean     3.944304    3.235443    3.108861    1.481013    2.291139    3.554430   \nstd      0.896659    0.998862    1.113278    0.890741    1.287897    1.390303   \nmin      1.000000    1.000000    1.000000    1.000000    1.000000    1.000000   \n25%      4.000000    3.000000    2.000000    1.000000    1.000000    3.000000   \n50%      4.000000    3.000000    3.000000    1.000000    2.000000    4.000000   \n75%      5.000000    4.000000    4.000000    2.000000    3.000000    5.000000   \nmax      5.000000    5.000000    5.000000    5.000000    5.000000    5.000000   \n\n         absences          G1          G2          G3  \ncount  395.000000  395.000000  395.000000  395.000000  \nmean     5.708861   10.908861   10.713924   10.415190  \nstd      8.003096    3.319195    3.761505    4.581443  \nmin      0.000000    3.000000    0.000000    0.000000  \n25%      0.000000    8.000000    9.000000    8.000000  \n50%      4.000000   11.000000   11.000000   11.000000  \n75%      8.000000   13.000000   13.000000   14.000000  \nmax     75.000000   19.000000   19.000000   20.000000  ",
      "text/html": "<div>\n<style scoped>\n    .dataframe tbody tr th:only-of-type {\n        vertical-align: middle;\n    }\n\n    .dataframe tbody tr th {\n        vertical-align: top;\n    }\n\n    .dataframe thead th {\n        text-align: right;\n    }\n</style>\n<table border=\"1\" class=\"dataframe\">\n  <thead>\n    <tr style=\"text-align: right;\">\n      <th></th>\n      <th>age</th>\n      <th>Medu</th>\n      <th>Fedu</th>\n      <th>traveltime</th>\n      <th>studytime</th>\n      <th>failures</th>\n      <th>famrel</th>\n      <th>freetime</th>\n      <th>goout</th>\n      <th>Dalc</th>\n      <th>Walc</th>\n      <th>health</th>\n      <th>absences</th>\n      <th>G1</th>\n      <th>G2</th>\n      <th>G3</th>\n    </tr>\n  </thead>\n  <tbody>\n    <tr>\n      <th>count</th>\n      <td>395.000000</td>\n      <td>395.000000</td>\n      <td>395.000000</td>\n      <td>395.000000</td>\n      <td>395.000000</td>\n      <td>395.000000</td>\n      <td>395.000000</td>\n      <td>395.000000</td>\n      <td>395.000000</td>\n      <td>395.000000</td>\n      <td>395.000000</td>\n      <td>395.000000</td>\n      <td>395.000000</td>\n      <td>395.000000</td>\n      <td>395.000000</td>\n      <td>395.000000</td>\n    </tr>\n    <tr>\n      <th>mean</th>\n      <td>16.696203</td>\n      <td>2.749367</td>\n      <td>2.521519</td>\n      <td>1.448101</td>\n      <td>2.035443</td>\n      <td>0.334177</td>\n      <td>3.944304</td>\n      <td>3.235443</td>\n      <td>3.108861</td>\n      <td>1.481013</td>\n      <td>2.291139</td>\n      <td>3.554430</td>\n      <td>5.708861</td>\n      <td>10.908861</td>\n      <td>10.713924</td>\n      <td>10.415190</td>\n    </tr>\n    <tr>\n      <th>std</th>\n      <td>1.276043</td>\n      <td>1.094735</td>\n      <td>1.088201</td>\n      <td>0.697505</td>\n      <td>0.839240</td>\n      <td>0.743651</td>\n      <td>0.896659</td>\n      <td>0.998862</td>\n      <td>1.113278</td>\n      <td>0.890741</td>\n      <td>1.287897</td>\n      <td>1.390303</td>\n      <td>8.003096</td>\n      <td>3.319195</td>\n      <td>3.761505</td>\n      <td>4.581443</td>\n    </tr>\n    <tr>\n      <th>min</th>\n      <td>15.000000</td>\n      <td>0.000000</td>\n      <td>0.000000</td>\n      <td>1.000000</td>\n      <td>1.000000</td>\n      <td>0.000000</td>\n      <td>1.000000</td>\n      <td>1.000000</td>\n      <td>1.000000</td>\n      <td>1.000000</td>\n      <td>1.000000</td>\n      <td>1.000000</td>\n      <td>0.000000</td>\n      <td>3.000000</td>\n      <td>0.000000</td>\n      <td>0.000000</td>\n    </tr>\n    <tr>\n      <th>25%</th>\n      <td>16.000000</td>\n      <td>2.000000</td>\n      <td>2.000000</td>\n      <td>1.000000</td>\n      <td>1.000000</td>\n      <td>0.000000</td>\n      <td>4.000000</td>\n      <td>3.000000</td>\n      <td>2.000000</td>\n      <td>1.000000</td>\n      <td>1.000000</td>\n      <td>3.000000</td>\n      <td>0.000000</td>\n      <td>8.000000</td>\n      <td>9.000000</td>\n      <td>8.000000</td>\n    </tr>\n    <tr>\n      <th>50%</th>\n      <td>17.000000</td>\n      <td>3.000000</td>\n      <td>2.000000</td>\n      <td>1.000000</td>\n      <td>2.000000</td>\n      <td>0.000000</td>\n      <td>4.000000</td>\n      <td>3.000000</td>\n      <td>3.000000</td>\n      <td>1.000000</td>\n      <td>2.000000</td>\n      <td>4.000000</td>\n      <td>4.000000</td>\n      <td>11.000000</td>\n      <td>11.000000</td>\n      <td>11.000000</td>\n    </tr>\n    <tr>\n      <th>75%</th>\n      <td>18.000000</td>\n      <td>4.000000</td>\n      <td>3.000000</td>\n      <td>2.000000</td>\n      <td>2.000000</td>\n      <td>0.000000</td>\n      <td>5.000000</td>\n      <td>4.000000</td>\n      <td>4.000000</td>\n      <td>2.000000</td>\n      <td>3.000000</td>\n      <td>5.000000</td>\n      <td>8.000000</td>\n      <td>13.000000</td>\n      <td>13.000000</td>\n      <td>14.000000</td>\n    </tr>\n    <tr>\n      <th>max</th>\n      <td>22.000000</td>\n      <td>4.000000</td>\n      <td>4.000000</td>\n      <td>4.000000</td>\n      <td>4.000000</td>\n      <td>3.000000</td>\n      <td>5.000000</td>\n      <td>5.000000</td>\n      <td>5.000000</td>\n      <td>5.000000</td>\n      <td>5.000000</td>\n      <td>5.000000</td>\n      <td>75.000000</td>\n      <td>19.000000</td>\n      <td>19.000000</td>\n      <td>20.000000</td>\n    </tr>\n  </tbody>\n</table>\n</div>"
     },
     "execution_count": 100,
     "metadata": {},
     "output_type": "execute_result"
    }
   ]
  },
  {
   "cell_type": "markdown",
   "metadata": {
    "id": "CEZJlcguoFmb"
   },
   "source": [
    "Ara volem saber si d'aquestes columnes hi alguna amb molt valors NULLS per poder treure-la."
   ]
  },
  {
   "cell_type": "code",
   "metadata": {
    "colab": {
     "base_uri": "https://localhost:8080/"
    },
    "id": "6mdVyMgGgUGZ",
    "outputId": "87347e56-17b4-4d8e-a21c-f48cf65bec6e"
   },
   "source": [
    "data.isnull().sum()"
   ],
   "execution_count": 101,
   "outputs": [
    {
     "data": {
      "text/plain": "school        0\nsex           0\nage           0\naddress       0\nfamsize       0\nPstatus       0\nMedu          0\nFedu          0\nMjob          0\nFjob          0\nreason        0\nguardian      0\ntraveltime    0\nstudytime     0\nfailures      0\nschoolsup     0\nfamsup        0\npaid          0\nactivities    0\nnursery       0\nhigher        0\ninternet      0\nromantic      0\nfamrel        0\nfreetime      0\ngoout         0\nDalc          0\nWalc          0\nhealth        0\nabsences      0\nG1            0\nG2            0\nG3            0\ndtype: int64"
     },
     "execution_count": 101,
     "metadata": {},
     "output_type": "execute_result"
    }
   ]
  },
  {
   "cell_type": "markdown",
   "metadata": {
    "id": "uGTZ7crhgXBN"
   },
   "source": [
    "No hi ha cap columna amb NULLS per tant ara volem definir quines d'aquestes variables serán útils per al nostre objectiu. (Eliminem les variables que no volem)\n"
   ]
  },
  {
   "cell_type": "code",
   "metadata": {
    "id": "RTYucB16iLDj"
   },
   "source": [
    "data = data.drop(['school', 'famsize', 'Pstatus', 'Fedu', 'Medu', 'Fjob', 'Mjob', 'reason', 'guardian', 'traveltime', 'famsup', 'nursery', 'higher', 'internet', 'goout', 'Dalc', 'Walc', 'health'], axis = 1)"
   ],
   "execution_count": 102,
   "outputs": []
  },
  {
   "cell_type": "code",
   "metadata": {
    "colab": {
     "base_uri": "https://localhost:8080/"
    },
    "id": "SEJoL7CriMDb",
    "outputId": "e5d091e3-d663-46ff-cc6a-2dac2d8c00c8"
   },
   "source": [
    "data.shape"
   ],
   "execution_count": 103,
   "outputs": [
    {
     "data": {
      "text/plain": "(395, 15)"
     },
     "execution_count": 103,
     "metadata": {},
     "output_type": "execute_result"
    }
   ]
  },
  {
   "cell_type": "markdown",
   "metadata": {
    "id": "ouUj4EDKi0fB"
   },
   "source": [
    "# **Data Transformation**\n",
    "\n"
   ]
  },
  {
   "cell_type": "code",
   "metadata": {
    "id": "hvHWgcA-qaBy"
   },
   "source": [
    "\n",
    "\n",
    "# for yes / no values:\n",
    "d = {'yes': 1, 'no': 0}\n",
    "data['schoolsup'] = data['schoolsup'].map(d)"
   ],
   "execution_count": 104,
   "outputs": []
  },
  {
   "cell_type": "code",
   "metadata": {
    "id": "EJ-KLBITi-SS"
   },
   "source": [
    "d = {'F': 1, 'M': 0}\n",
    "data['sex'] = data['sex'].map(d)\n"
   ],
   "execution_count": 105,
   "outputs": []
  },
  {
   "cell_type": "code",
   "metadata": {
    "colab": {
     "base_uri": "https://localhost:8080/"
    },
    "id": "p_ffPnjAoWtH",
    "outputId": "4f271d5b-86d2-4db6-a5d3-4e9d69312ee3"
   },
   "source": [
    "\n",
    "\n",
    "data.nunique()\n",
    "\n",
    "\n"
   ],
   "execution_count": 106,
   "outputs": [
    {
     "data": {
      "text/plain": "sex            2\nage            8\naddress        2\nstudytime      4\nfailures       4\nschoolsup      2\npaid           2\nactivities     2\nromantic       2\nfamrel         5\nfreetime       5\nabsences      34\nG1            17\nG2            17\nG3            18\ndtype: int64"
     },
     "execution_count": 106,
     "metadata": {},
     "output_type": "execute_result"
    }
   ]
  },
  {
   "cell_type": "code",
   "metadata": {
    "colab": {
     "base_uri": "https://localhost:8080/",
     "height": 206
    },
    "id": "KZlQf7mYrAID",
    "outputId": "92e052ea-24d1-40d1-bd94-96387338ec44"
   },
   "source": [
    "data.head()"
   ],
   "execution_count": 107,
   "outputs": [
    {
     "data": {
      "text/plain": "   sex  age address  studytime  failures  schoolsup paid activities romantic  \\\n0    1   18       U          2         0          1   no         no       no   \n1    1   17       U          2         0          0   no         no       no   \n2    1   15       U          2         3          1  yes         no       no   \n3    1   15       U          3         0          0  yes        yes      yes   \n4    1   16       U          2         0          0  yes         no       no   \n\n   famrel  freetime  absences  G1  G2  G3  \n0       4         3         6   5   6   6  \n1       5         3         4   5   5   6  \n2       4         3        10   7   8  10  \n3       3         2         2  15  14  15  \n4       4         3         4   6  10  10  ",
      "text/html": "<div>\n<style scoped>\n    .dataframe tbody tr th:only-of-type {\n        vertical-align: middle;\n    }\n\n    .dataframe tbody tr th {\n        vertical-align: top;\n    }\n\n    .dataframe thead th {\n        text-align: right;\n    }\n</style>\n<table border=\"1\" class=\"dataframe\">\n  <thead>\n    <tr style=\"text-align: right;\">\n      <th></th>\n      <th>sex</th>\n      <th>age</th>\n      <th>address</th>\n      <th>studytime</th>\n      <th>failures</th>\n      <th>schoolsup</th>\n      <th>paid</th>\n      <th>activities</th>\n      <th>romantic</th>\n      <th>famrel</th>\n      <th>freetime</th>\n      <th>absences</th>\n      <th>G1</th>\n      <th>G2</th>\n      <th>G3</th>\n    </tr>\n  </thead>\n  <tbody>\n    <tr>\n      <th>0</th>\n      <td>1</td>\n      <td>18</td>\n      <td>U</td>\n      <td>2</td>\n      <td>0</td>\n      <td>1</td>\n      <td>no</td>\n      <td>no</td>\n      <td>no</td>\n      <td>4</td>\n      <td>3</td>\n      <td>6</td>\n      <td>5</td>\n      <td>6</td>\n      <td>6</td>\n    </tr>\n    <tr>\n      <th>1</th>\n      <td>1</td>\n      <td>17</td>\n      <td>U</td>\n      <td>2</td>\n      <td>0</td>\n      <td>0</td>\n      <td>no</td>\n      <td>no</td>\n      <td>no</td>\n      <td>5</td>\n      <td>3</td>\n      <td>4</td>\n      <td>5</td>\n      <td>5</td>\n      <td>6</td>\n    </tr>\n    <tr>\n      <th>2</th>\n      <td>1</td>\n      <td>15</td>\n      <td>U</td>\n      <td>2</td>\n      <td>3</td>\n      <td>1</td>\n      <td>yes</td>\n      <td>no</td>\n      <td>no</td>\n      <td>4</td>\n      <td>3</td>\n      <td>10</td>\n      <td>7</td>\n      <td>8</td>\n      <td>10</td>\n    </tr>\n    <tr>\n      <th>3</th>\n      <td>1</td>\n      <td>15</td>\n      <td>U</td>\n      <td>3</td>\n      <td>0</td>\n      <td>0</td>\n      <td>yes</td>\n      <td>yes</td>\n      <td>yes</td>\n      <td>3</td>\n      <td>2</td>\n      <td>2</td>\n      <td>15</td>\n      <td>14</td>\n      <td>15</td>\n    </tr>\n    <tr>\n      <th>4</th>\n      <td>1</td>\n      <td>16</td>\n      <td>U</td>\n      <td>2</td>\n      <td>0</td>\n      <td>0</td>\n      <td>yes</td>\n      <td>no</td>\n      <td>no</td>\n      <td>4</td>\n      <td>3</td>\n      <td>4</td>\n      <td>6</td>\n      <td>10</td>\n      <td>10</td>\n    </tr>\n  </tbody>\n</table>\n</div>"
     },
     "execution_count": 107,
     "metadata": {},
     "output_type": "execute_result"
    }
   ]
  },
  {
   "cell_type": "markdown",
   "metadata": {
    "id": "z6jh9vispRE0"
   },
   "source": [
    "# **Taking all data x and y**"
   ]
  },
  {
   "cell_type": "code",
   "metadata": {
    "id": "zLuQfiELphou",
    "colab": {
     "base_uri": "https://localhost:8080/",
     "height": 246
    },
    "outputId": "900dbc92-dc11-46e0-f7b0-e3027593ab0e"
   },
   "source": [
    "x =  data.iloc[:,:-1]\n",
    "print('This is x: ',x)\n",
    "y = data.iloc[:,-1]\n",
    "print('This is y: ',y)"
   ],
   "execution_count": 108,
   "outputs": [
    {
     "name": "stdout",
     "output_type": "stream",
     "text": [
      "This is x:       sex  age address  studytime  failures  schoolsup paid activities  \\\n",
      "0      1   18       U          2         0          1   no         no   \n",
      "1      1   17       U          2         0          0   no         no   \n",
      "2      1   15       U          2         3          1  yes         no   \n",
      "3      1   15       U          3         0          0  yes        yes   \n",
      "4      1   16       U          2         0          0  yes         no   \n",
      "..   ...  ...     ...        ...       ...        ...  ...        ...   \n",
      "390    0   20       U          2         2          0  yes         no   \n",
      "391    0   17       U          1         0          0   no         no   \n",
      "392    0   21       R          1         3          0   no         no   \n",
      "393    0   18       R          1         0          0   no         no   \n",
      "394    0   19       U          1         0          0   no         no   \n",
      "\n",
      "    romantic  famrel  freetime  absences  G1  G2  \n",
      "0         no       4         3         6   5   6  \n",
      "1         no       5         3         4   5   5  \n",
      "2         no       4         3        10   7   8  \n",
      "3        yes       3         2         2  15  14  \n",
      "4         no       4         3         4   6  10  \n",
      "..       ...     ...       ...       ...  ..  ..  \n",
      "390       no       5         5        11   9   9  \n",
      "391       no       2         4         3  14  16  \n",
      "392       no       5         5         3  10   8  \n",
      "393       no       4         4         0  11  12  \n",
      "394       no       3         2         5   8   9  \n",
      "\n",
      "[395 rows x 14 columns]\n",
      "This is y:  0       6\n",
      "1       6\n",
      "2      10\n",
      "3      15\n",
      "4      10\n",
      "       ..\n",
      "390     9\n",
      "391    16\n",
      "392     7\n",
      "393    10\n",
      "394     9\n",
      "Name: G3, Length: 395, dtype: int64\n"
     ]
    }
   ]
  },
  {
   "cell_type": "code",
   "metadata": {
    "id": "f72C0isthOrV"
   },
   "source": [
    "def bar_plot(variable):\n",
    "    var = data[variable]\n",
    "    var_c = var.value_counts()\n",
    "    \n",
    "    plt.figure(figsize= (5,5))\n",
    "    plt.bar(var_c.index, var_c)\n",
    "    plt.ylabel('Frequency')\n",
    "    plt.show()\n",
    "    print(\"{}\\n{}\".format(variable, var_c))"
   ],
   "execution_count": 109,
   "outputs": []
  },
  {
   "cell_type": "code",
   "metadata": {
    "colab": {
     "base_uri": "https://localhost:8080/",
     "height": 1000
    },
    "id": "ZFCxKbZwh2PD",
    "outputId": "886220e4-fb5e-4863-fbb4-1a691910b863"
   },
   "source": [
    "\n",
    "\n",
    "categorical = data.dtypes=='object'\n",
    "categorical_list = list(categorical[categorical].index)\n",
    "categorical_list\n",
    "\n",
    "for i in categorical_list:\n",
    "    bar_plot(i)\n",
    "\n"
   ],
   "execution_count": 110,
   "outputs": [
    {
     "data": {
      "text/plain": "<Figure size 360x360 with 1 Axes>",
      "image/png": "[encoded data removed]"
     },
     "metadata": {
      "needs_background": "light"
     },
     "output_type": "display_data"
    },
    {
     "name": "stdout",
     "output_type": "stream",
     "text": [
      "address\n",
      "U    307\n",
      "R     88\n",
      "Name: address, dtype: int64\n",
      "paid\n",
      "no     214\n",
      "yes    181\n",
      "Name: paid, dtype: int64\n",
      "activities\n",
      "yes    201\n",
      "no     194\n",
      "Name: activities, dtype: int64\n",
      "romantic\n",
      "no     263\n",
      "yes    132\n",
      "Name: romantic, dtype: int64\n"
     ]
    },
    {
     "data": {
      "text/plain": "<Figure size 360x360 with 1 Axes>",
      "image/png": "[encoded data removed]"
     },
     "metadata": {
      "needs_background": "light"
     },
     "output_type": "display_data"
    },
    {
     "data": {
      "text/plain": "<Figure size 360x360 with 1 Axes>",
      "image/png": "[encoded data removed]"
     },
     "metadata": {
      "needs_background": "light"
     },
     "output_type": "display_data"
    },
    {
     "data": {
      "text/plain": "<Figure size 360x360 with 1 Axes>",
      "image/png": "[encoded data removed]"
     },
     "metadata": {
      "needs_background": "light"
     },
     "output_type": "display_data"
    }
   ]
  },
  {
   "cell_type": "code",
   "metadata": {
    "id": "Jf6q6gliis2a"
   },
   "source": [
    "import numpy as np\n",
    "from sklearn.metrics import mean_squared_error\n",
    "\n",
    "def mse(v1, v2):\n",
    "    return ((v1 - v2)**2).mean()\n",
    "\n",
    "print(mse(data['failures'], data['G3']))\n",
    "print(mean_squared_error(data['G3'], data['failures']))"
   ],
   "execution_count": 111,
   "outputs": [
    {
     "name": "stdout",
     "output_type": "stream",
     "text": [
      "125.56455696202532\n",
      "125.56455696202532\n"
     ]
    }
   ]
  },
  {
   "cell_type": "code",
   "execution_count": 112,
   "outputs": [],
   "source": [
    "from sklearn.linear_model import LinearRegression\n",
    "def regression(x, y):\n",
    "    # Creem un objecte de regressió de sklearn\n",
    "\n",
    "    regr = LinearRegression()\n",
    "\n",
    "    # Entrenem el model per a predir y a partir de x\n",
    "    regr.fit(x, y)\n",
    "\n",
    "    # Retornem el model entrenat\n",
    "    return regr\n",
    "\n"
   ],
   "metadata": {
    "collapsed": false,
    "pycharm": {
     "name": "#%%\n"
    }
   }
  },
  {
   "cell_type": "code",
   "execution_count": 113,
   "outputs": [
    {
     "name": "stdout",
     "output_type": "stream",
     "text": [
      "0      0\n",
      "1      0\n",
      "2      0\n",
      "3      0\n",
      "4      0\n",
      "      ..\n",
      "390    0\n",
      "391    0\n",
      "392    1\n",
      "393    1\n",
      "394    0\n",
      "Name: address, Length: 395, dtype: int64\n",
      "[[1.         0.42857143 0.         ... 0.125      0.31578947 0.3       ]\n",
      " [1.         0.28571429 0.         ... 0.125      0.26315789 0.3       ]\n",
      " [1.         0.         0.         ... 0.25       0.42105263 0.5       ]\n",
      " ...\n",
      " [0.         0.85714286 1.         ... 0.4375     0.42105263 0.35      ]\n",
      " [0.         0.42857143 1.         ... 0.5        0.63157895 0.5       ]\n",
      " [0.         0.57142857 0.         ... 0.3125     0.47368421 0.45      ]]\n"
     ]
    }
   ],
   "source": [
    "#transform data\n",
    "#Urban sera 0\n",
    "#Rural sera 1\n",
    "data['address'] = data['address'].replace(['U'],0)\n",
    "data['address'] = data['address'].replace(['R'],1)\n",
    "print(data['address'])\n",
    "#No --> 0\n",
    "#Yes -->1\n",
    "data['paid'] = data['paid'].replace(['no'],0)\n",
    "data['paid'] = data['paid'].replace(['yes'],1)\n",
    "data['activities'] = data['activities'].replace(['no'],0)\n",
    "data['activities'] = data['activities'].replace(['yes'],1)\n",
    "data['romantic'] = data['romantic'].replace(['no'],0)\n",
    "data['romantic'] = data['romantic'].replace(['yes'],1)\n",
    "\n",
    "#Normalization\n",
    "min_max = MinMaxScaler()\n",
    "dataNormalize = min_max.fit_transform(data)\n",
    "print(dataNormalize)"
   ],
   "metadata": {
    "collapsed": false,
    "pycharm": {
     "name": "#%%\n"
    }
   }
  },
  {
   "cell_type": "code",
   "execution_count": 115,
   "outputs": [
    {
     "name": "stdout",
     "output_type": "stream",
     "text": [
      "[[ 0.94817639  1.02304645 -0.53539233 ... -1.78246688 -1.25479105\n",
      "  -0.96493392]\n",
      " [ 0.94817639  0.23837976 -0.53539233 ... -1.78246688 -1.52097927\n",
      "  -0.96493392]\n",
      " [ 0.94817639 -1.33095364 -0.53539233 ... -1.1791469  -0.72241461\n",
      "  -0.0907392 ]\n",
      " ...\n",
      " [-1.05465609  3.37704655  1.86778916 ... -0.27416693 -0.72241461\n",
      "  -0.74638524]\n",
      " [-1.05465609  1.02304645  1.86778916 ...  0.02749306  0.34233827\n",
      "  -0.0907392 ]\n",
      " [-1.05465609  1.80771315 -0.53539233 ... -0.87748691 -0.45622639\n",
      "  -0.30928788]]\n"
     ]
    }
   ],
   "source": [
    "def standarize(x_train):\n",
    "    mean = x_train.mean(0)\n",
    "    std = x_train.std(0)\n",
    "    x_t = x_train - mean[None, :]\n",
    "    x_t /= std[None, :]\n",
    "    return x_t\n",
    "\n",
    "x_t = standarize(dataNormalize)\n",
    "\n",
    "print(x_t)"
   ],
   "metadata": {
    "collapsed": false,
    "pycharm": {
     "name": "#%%\n"
    }
   }
  }
 ]
}