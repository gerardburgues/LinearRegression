{
 "nbformat": 4,
 "nbformat_minor": 0,
 "metadata": {
  "colab": {
   "name": "Untitled1.ipynb",
   "provenance": [],
   "collapsed_sections": []
  },
  "kernelspec": {
   "name": "python3",
   "language": "python",
   "display_name": "Python 3 (ipykernel)"
  },
  "language_info": {
   "name": "python"
  }
 },
 "cells": [
  {
   "cell_type": "markdown",
   "metadata": {
    "id": "bs_6C1-0ecwH"
   },
   "source": [
    "# **Introducció**"
   ]
  },
  {
   "cell_type": "markdown",
   "metadata": {
    "id": "OMPXRwN2eb2W",
    "pycharm": {
     "name": "#%% md\n"
    }
   },
   "source": [
    "\n",
    "La nostra base de dades tracta sobre el rendiment d’alumnes de secundària en dos escoles portugueses. Els atributs inclueixen dades sobre les seves calificacions, característiques demogràfiques, socials i característiques relacionades amb l’escola. Totes aquestes dades han sigut obtingudes de informes escolars i qüestionaris."
   ]
  },
  {
   "cell_type": "markdown",
   "metadata": {
    "id": "n1otHuldefWb"
   },
   "source": [
    "# **Llibreries**\n",
    "Importem les llibreries que voldrem utilitzar en el projecte."
   ]
  },
  {
   "cell_type": "code",
   "metadata": {
    "id": "cl1M_141ekbs"
   },
   "source": [
    "import numpy as np\n",
    "import pandas as pd\n",
    "import scipy.stats\n",
    "import seaborn as sns\n",
    "from matplotlib import pyplot as plt\n",
    "from sklearn.preprocessing import MinMaxScaler"
   ],
   "execution_count": 132,
   "outputs": []
  },
  {
   "cell_type": "code",
   "metadata": {
    "id": "YmO8PEzljoc-"
   },
   "source": [
    "from sklearn.datasets import make_regression\n",
    "from sklearn.model_selection import train_test_split\n",
    "\n"
   ],
   "execution_count": 133,
   "outputs": []
  },
  {
   "cell_type": "markdown",
   "metadata": {
    "id": "YwN3y5BVe7Qe"
   },
   "source": [
    "# **Dades**\n",
    "Llegim el csv amb totes les dades disponibles i les mostrem per pantalla"
   ]
  },
  {
   "cell_type": "code",
   "metadata": {
    "id": "Dm6IUUO7fGM8"
   },
   "source": [
    "data = pd.read_csv(\"student-mat.csv\")\n"
   ],
   "execution_count": 134,
   "outputs": []
  },
  {
   "cell_type": "markdown",
   "source": [
    "Anem a observar els camps dels que disposem."
   ],
   "metadata": {
    "collapsed": false
   }
  },
  {
   "cell_type": "code",
   "metadata": {
    "colab": {
     "base_uri": "https://localhost:8080/",
     "height": 226
    },
    "id": "ftJ_OpZBfsI6",
    "outputId": "b3d37bc2-4ecd-4204-d835-21a9007bd32a"
   },
   "source": [
    "data.head()"
   ],
   "execution_count": 135,
   "outputs": [
    {
     "data": {
      "text/plain": "  school sex  age address famsize Pstatus  Medu  Fedu     Mjob      Fjob  ...  \\\n0     GP   F   18       U     GT3       A     4     4  at_home   teacher  ...   \n1     GP   F   17       U     GT3       T     1     1  at_home     other  ...   \n2     GP   F   15       U     LE3       T     1     1  at_home     other  ...   \n3     GP   F   15       U     GT3       T     4     2   health  services  ...   \n4     GP   F   16       U     GT3       T     3     3    other     other  ...   \n\n  famrel freetime  goout  Dalc  Walc health absences  G1  G2  G3  \n0      4        3      4     1     1      3        6   5   6   6  \n1      5        3      3     1     1      3        4   5   5   6  \n2      4        3      2     2     3      3       10   7   8  10  \n3      3        2      2     1     1      5        2  15  14  15  \n4      4        3      2     1     2      5        4   6  10  10  \n\n[5 rows x 33 columns]",
      "text/html": "<div>\n<style scoped>\n    .dataframe tbody tr th:only-of-type {\n        vertical-align: middle;\n    }\n\n    .dataframe tbody tr th {\n        vertical-align: top;\n    }\n\n    .dataframe thead th {\n        text-align: right;\n    }\n</style>\n<table border=\"1\" class=\"dataframe\">\n  <thead>\n    <tr style=\"text-align: right;\">\n      <th></th>\n      <th>school</th>\n      <th>sex</th>\n      <th>age</th>\n      <th>address</th>\n      <th>famsize</th>\n      <th>Pstatus</th>\n      <th>Medu</th>\n      <th>Fedu</th>\n      <th>Mjob</th>\n      <th>Fjob</th>\n      <th>...</th>\n      <th>famrel</th>\n      <th>freetime</th>\n      <th>goout</th>\n      <th>Dalc</th>\n      <th>Walc</th>\n      <th>health</th>\n      <th>absences</th>\n      <th>G1</th>\n      <th>G2</th>\n      <th>G3</th>\n    </tr>\n  </thead>\n  <tbody>\n    <tr>\n      <th>0</th>\n      <td>GP</td>\n      <td>F</td>\n      <td>18</td>\n      <td>U</td>\n      <td>GT3</td>\n      <td>A</td>\n      <td>4</td>\n      <td>4</td>\n      <td>at_home</td>\n      <td>teacher</td>\n      <td>...</td>\n      <td>4</td>\n      <td>3</td>\n      <td>4</td>\n      <td>1</td>\n      <td>1</td>\n      <td>3</td>\n      <td>6</td>\n      <td>5</td>\n      <td>6</td>\n      <td>6</td>\n    </tr>\n    <tr>\n      <th>1</th>\n      <td>GP</td>\n      <td>F</td>\n      <td>17</td>\n      <td>U</td>\n      <td>GT3</td>\n      <td>T</td>\n      <td>1</td>\n      <td>1</td>\n      <td>at_home</td>\n      <td>other</td>\n      <td>...</td>\n      <td>5</td>\n      <td>3</td>\n      <td>3</td>\n      <td>1</td>\n      <td>1</td>\n      <td>3</td>\n      <td>4</td>\n      <td>5</td>\n      <td>5</td>\n      <td>6</td>\n    </tr>\n    <tr>\n      <th>2</th>\n      <td>GP</td>\n      <td>F</td>\n      <td>15</td>\n      <td>U</td>\n      <td>LE3</td>\n      <td>T</td>\n      <td>1</td>\n      <td>1</td>\n      <td>at_home</td>\n      <td>other</td>\n      <td>...</td>\n      <td>4</td>\n      <td>3</td>\n      <td>2</td>\n      <td>2</td>\n      <td>3</td>\n      <td>3</td>\n      <td>10</td>\n      <td>7</td>\n      <td>8</td>\n      <td>10</td>\n    </tr>\n    <tr>\n      <th>3</th>\n      <td>GP</td>\n      <td>F</td>\n      <td>15</td>\n      <td>U</td>\n      <td>GT3</td>\n      <td>T</td>\n      <td>4</td>\n      <td>2</td>\n      <td>health</td>\n      <td>services</td>\n      <td>...</td>\n      <td>3</td>\n      <td>2</td>\n      <td>2</td>\n      <td>1</td>\n      <td>1</td>\n      <td>5</td>\n      <td>2</td>\n      <td>15</td>\n      <td>14</td>\n      <td>15</td>\n    </tr>\n    <tr>\n      <th>4</th>\n      <td>GP</td>\n      <td>F</td>\n      <td>16</td>\n      <td>U</td>\n      <td>GT3</td>\n      <td>T</td>\n      <td>3</td>\n      <td>3</td>\n      <td>other</td>\n      <td>other</td>\n      <td>...</td>\n      <td>4</td>\n      <td>3</td>\n      <td>2</td>\n      <td>1</td>\n      <td>2</td>\n      <td>5</td>\n      <td>4</td>\n      <td>6</td>\n      <td>10</td>\n      <td>10</td>\n    </tr>\n  </tbody>\n</table>\n<p>5 rows × 33 columns</p>\n</div>"
     },
     "execution_count": 135,
     "metadata": {},
     "output_type": "execute_result"
    }
   ]
  },
  {
   "cell_type": "code",
   "source": [],
   "metadata": {
    "collapsed": false,
    "pycharm": {
     "name": "#%%\n"
    }
   },
   "execution_count": 135,
   "outputs": []
  },
  {
   "cell_type": "markdown",
   "metadata": {
    "id": "43Pkk0K3f20B"
   },
   "source": [
    "Podem veure totes les variables. <br>Podem trobar més informació com quantes columnes i files tenim. (Podemos explicar todas las variables aquí).\n"
   ]
  },
  {
   "cell_type": "code",
   "metadata": {
    "colab": {
     "base_uri": "https://localhost:8080/"
    },
    "id": "LmBmeEY3hgKS",
    "outputId": "243c3113-5386-4f19-adbb-9b3b19ad0f99"
   },
   "source": [
    "data.shape"
   ],
   "execution_count": 136,
   "outputs": [
    {
     "data": {
      "text/plain": "(395, 33)"
     },
     "execution_count": 136,
     "metadata": {},
     "output_type": "execute_result"
    }
   ]
  },
  {
   "cell_type": "markdown",
   "metadata": {
    "id": "J6W9dpcRhoAn"
   },
   "source": [
    "Tenim 395 files i 33 columnes. <br>\n",
    "Més info\n"
   ]
  },
  {
   "cell_type": "code",
   "execution_count": 136,
   "outputs": [],
   "source": [],
   "metadata": {
    "collapsed": false,
    "pycharm": {
     "name": "#%%\n"
    }
   }
  },
  {
   "cell_type": "markdown",
   "source": [
    "**Explicació variables** <br>\n",
    "Ara explicarem totes les variables de les que disposem en la base de dades.\n"
   ],
   "metadata": {
    "collapsed": false
   }
  },
  {
   "cell_type": "markdown",
   "source": [
    "**School:** Escola en que es forma l’estudiant <br>\n",
    "**Sex:** Sexe de l’estudiant <br>\n",
    "**Age:** Edat de l’estudiant <br>\n",
    "**Family Size:** Mida de l’estudiant ( >3 o <3) <br>\n",
    "**Parent Status:** Situació parental (junts o separats) <br>\n",
    "**Mother Education:** Educació de la mare <br>\n",
    "**Father Education:** Educació del pare <br>\n",
    "**Mother Job:** Feina de la mare <br>\n",
    "**Father Job:** Feina del pare <br>\n",
    "**Reason (to choose the school):** Raó per la qual va triar l'escola <br>\n",
    "**Guardian:** Tutor de l'estudiant <br>\n",
    "**Travel time (to school):** Temps que triga per anar a l'escola <br>\n",
    "**Study Time:** Temps que estudia <br>\n",
    "**Failures (failed classes):** Classes que no ha anat <br>\n",
    "**School Up (extra education):** Educació extra <br>\n",
    "**Family Up (Family extra education support):** Educació extra familiar <br>\n",
    "**Paid (Extra paid classes Math-Portuguese):** Ha pagat per classes extra <br>\n",
    "**Activities (extra excurricular):** Activitats extracurriculars <br>\n",
    "**Nursey (Attended to nursey school):** Ha atès a escola d'infermeria <br>\n",
    "**Higher (wants higher education):** Vol educació superior <br>\n",
    "**Internet (has internet):** Disposa d'Internet <br>\n",
    "**Romantic (in a relationship):** Forma part d'una relació romàntica <br>\n",
    "**Free time:** Temps lliure després de l'escola <br>\n",
    "**Go out:** Surt amb els amics <br>\n",
    "**Day Alcohol Consumtion (during week):** Consumeix alcohol durant la setmana <br>\n",
    "**Weekend Alcohol Consumption:** Consumeix alcohol durant el cap de setmana <br>\n",
    "**Health:** Situació actual de salut <br>\n",
    "**Absence:** Número de cops que ha faltat a classe <br>\n",
    "**G1:** Notes del primer període <br>\n",
    "**G2:** Notes del segon període <br>\n",
    "**G3:** Notes del tercer període <br>\n",
    "\n"
   ],
   "metadata": {
    "collapsed": false
   }
  },
  {
   "cell_type": "markdown",
   "source": [
    "Per obtenir més informació podem efecutar describe() on ens mostrarà informació com la mitja, el mínim, màxim, quartils ... En el nostre cas aquesta informació no ens serà útil ja que no la necesitemn en la forma d¡aplicar-ho però pots conèixer més informació sobre les dades on treballes.\n"
   ],
   "metadata": {
    "collapsed": false
   }
  },
  {
   "cell_type": "code",
   "metadata": {
    "colab": {
     "base_uri": "https://localhost:8080/",
     "height": 320
    },
    "id": "besd1ryNiD6P",
    "outputId": "939addcb-e046-4ffe-c4d2-7502623b1a2b"
   },
   "source": [
    "data.describe()"
   ],
   "execution_count": 137,
   "outputs": [
    {
     "data": {
      "text/plain": "              age        Medu        Fedu  traveltime   studytime    failures  \\\ncount  395.000000  395.000000  395.000000  395.000000  395.000000  395.000000   \nmean    16.696203    2.749367    2.521519    1.448101    2.035443    0.334177   \nstd      1.276043    1.094735    1.088201    0.697505    0.839240    0.743651   \nmin     15.000000    0.000000    0.000000    1.000000    1.000000    0.000000   \n25%     16.000000    2.000000    2.000000    1.000000    1.000000    0.000000   \n50%     17.000000    3.000000    2.000000    1.000000    2.000000    0.000000   \n75%     18.000000    4.000000    3.000000    2.000000    2.000000    0.000000   \nmax     22.000000    4.000000    4.000000    4.000000    4.000000    3.000000   \n\n           famrel    freetime       goout        Dalc        Walc      health  \\\ncount  395.000000  395.000000  395.000000  395.000000  395.000000  395.000000   \nmean     3.944304    3.235443    3.108861    1.481013    2.291139    3.554430   \nstd      0.896659    0.998862    1.113278    0.890741    1.287897    1.390303   \nmin      1.000000    1.000000    1.000000    1.000000    1.000000    1.000000   \n25%      4.000000    3.000000    2.000000    1.000000    1.000000    3.000000   \n50%      4.000000    3.000000    3.000000    1.000000    2.000000    4.000000   \n75%      5.000000    4.000000    4.000000    2.000000    3.000000    5.000000   \nmax      5.000000    5.000000    5.000000    5.000000    5.000000    5.000000   \n\n         absences          G1          G2          G3  \ncount  395.000000  395.000000  395.000000  395.000000  \nmean     5.708861   10.908861   10.713924   10.415190  \nstd      8.003096    3.319195    3.761505    4.581443  \nmin      0.000000    3.000000    0.000000    0.000000  \n25%      0.000000    8.000000    9.000000    8.000000  \n50%      4.000000   11.000000   11.000000   11.000000  \n75%      8.000000   13.000000   13.000000   14.000000  \nmax     75.000000   19.000000   19.000000   20.000000  ",
      "text/html": "<div>\n<style scoped>\n    .dataframe tbody tr th:only-of-type {\n        vertical-align: middle;\n    }\n\n    .dataframe tbody tr th {\n        vertical-align: top;\n    }\n\n    .dataframe thead th {\n        text-align: right;\n    }\n</style>\n<table border=\"1\" class=\"dataframe\">\n  <thead>\n    <tr style=\"text-align: right;\">\n      <th></th>\n      <th>age</th>\n      <th>Medu</th>\n      <th>Fedu</th>\n      <th>traveltime</th>\n      <th>studytime</th>\n      <th>failures</th>\n      <th>famrel</th>\n      <th>freetime</th>\n      <th>goout</th>\n      <th>Dalc</th>\n      <th>Walc</th>\n      <th>health</th>\n      <th>absences</th>\n      <th>G1</th>\n      <th>G2</th>\n      <th>G3</th>\n    </tr>\n  </thead>\n  <tbody>\n    <tr>\n      <th>count</th>\n      <td>395.000000</td>\n      <td>395.000000</td>\n      <td>395.000000</td>\n      <td>395.000000</td>\n      <td>395.000000</td>\n      <td>395.000000</td>\n      <td>395.000000</td>\n      <td>395.000000</td>\n      <td>395.000000</td>\n      <td>395.000000</td>\n      <td>395.000000</td>\n      <td>395.000000</td>\n      <td>395.000000</td>\n      <td>395.000000</td>\n      <td>395.000000</td>\n      <td>395.000000</td>\n    </tr>\n    <tr>\n      <th>mean</th>\n      <td>16.696203</td>\n      <td>2.749367</td>\n      <td>2.521519</td>\n      <td>1.448101</td>\n      <td>2.035443</td>\n      <td>0.334177</td>\n      <td>3.944304</td>\n      <td>3.235443</td>\n      <td>3.108861</td>\n      <td>1.481013</td>\n      <td>2.291139</td>\n      <td>3.554430</td>\n      <td>5.708861</td>\n      <td>10.908861</td>\n      <td>10.713924</td>\n      <td>10.415190</td>\n    </tr>\n    <tr>\n      <th>std</th>\n      <td>1.276043</td>\n      <td>1.094735</td>\n      <td>1.088201</td>\n      <td>0.697505</td>\n      <td>0.839240</td>\n      <td>0.743651</td>\n      <td>0.896659</td>\n      <td>0.998862</td>\n      <td>1.113278</td>\n      <td>0.890741</td>\n      <td>1.287897</td>\n      <td>1.390303</td>\n      <td>8.003096</td>\n      <td>3.319195</td>\n      <td>3.761505</td>\n      <td>4.581443</td>\n    </tr>\n    <tr>\n      <th>min</th>\n      <td>15.000000</td>\n      <td>0.000000</td>\n      <td>0.000000</td>\n      <td>1.000000</td>\n      <td>1.000000</td>\n      <td>0.000000</td>\n      <td>1.000000</td>\n      <td>1.000000</td>\n      <td>1.000000</td>\n      <td>1.000000</td>\n      <td>1.000000</td>\n      <td>1.000000</td>\n      <td>0.000000</td>\n      <td>3.000000</td>\n      <td>0.000000</td>\n      <td>0.000000</td>\n    </tr>\n    <tr>\n      <th>25%</th>\n      <td>16.000000</td>\n      <td>2.000000</td>\n      <td>2.000000</td>\n      <td>1.000000</td>\n      <td>1.000000</td>\n      <td>0.000000</td>\n      <td>4.000000</td>\n      <td>3.000000</td>\n      <td>2.000000</td>\n      <td>1.000000</td>\n      <td>1.000000</td>\n      <td>3.000000</td>\n      <td>0.000000</td>\n      <td>8.000000</td>\n      <td>9.000000</td>\n      <td>8.000000</td>\n    </tr>\n    <tr>\n      <th>50%</th>\n      <td>17.000000</td>\n      <td>3.000000</td>\n      <td>2.000000</td>\n      <td>1.000000</td>\n      <td>2.000000</td>\n      <td>0.000000</td>\n      <td>4.000000</td>\n      <td>3.000000</td>\n      <td>3.000000</td>\n      <td>1.000000</td>\n      <td>2.000000</td>\n      <td>4.000000</td>\n      <td>4.000000</td>\n      <td>11.000000</td>\n      <td>11.000000</td>\n      <td>11.000000</td>\n    </tr>\n    <tr>\n      <th>75%</th>\n      <td>18.000000</td>\n      <td>4.000000</td>\n      <td>3.000000</td>\n      <td>2.000000</td>\n      <td>2.000000</td>\n      <td>0.000000</td>\n      <td>5.000000</td>\n      <td>4.000000</td>\n      <td>4.000000</td>\n      <td>2.000000</td>\n      <td>3.000000</td>\n      <td>5.000000</td>\n      <td>8.000000</td>\n      <td>13.000000</td>\n      <td>13.000000</td>\n      <td>14.000000</td>\n    </tr>\n    <tr>\n      <th>max</th>\n      <td>22.000000</td>\n      <td>4.000000</td>\n      <td>4.000000</td>\n      <td>4.000000</td>\n      <td>4.000000</td>\n      <td>3.000000</td>\n      <td>5.000000</td>\n      <td>5.000000</td>\n      <td>5.000000</td>\n      <td>5.000000</td>\n      <td>5.000000</td>\n      <td>5.000000</td>\n      <td>75.000000</td>\n      <td>19.000000</td>\n      <td>19.000000</td>\n      <td>20.000000</td>\n    </tr>\n  </tbody>\n</table>\n</div>"
     },
     "execution_count": 137,
     "metadata": {},
     "output_type": "execute_result"
    }
   ]
  },
  {
   "cell_type": "markdown",
   "metadata": {
    "id": "CEZJlcguoFmb"
   },
   "source": [
    "Ara volem saber si d'aquestes columnes hi alguna amb molt valors NULLS per poder treure-la."
   ]
  },
  {
   "cell_type": "code",
   "metadata": {
    "colab": {
     "base_uri": "https://localhost:8080/"
    },
    "id": "6mdVyMgGgUGZ",
    "outputId": "87347e56-17b4-4d8e-a21c-f48cf65bec6e"
   },
   "source": [
    "data.isnull().sum()"
   ],
   "execution_count": 138,
   "outputs": [
    {
     "data": {
      "text/plain": "school        0\nsex           0\nage           0\naddress       0\nfamsize       0\nPstatus       0\nMedu          0\nFedu          0\nMjob          0\nFjob          0\nreason        0\nguardian      0\ntraveltime    0\nstudytime     0\nfailures      0\nschoolsup     0\nfamsup        0\npaid          0\nactivities    0\nnursery       0\nhigher        0\ninternet      0\nromantic      0\nfamrel        0\nfreetime      0\ngoout         0\nDalc          0\nWalc          0\nhealth        0\nabsences      0\nG1            0\nG2            0\nG3            0\ndtype: int64"
     },
     "execution_count": 138,
     "metadata": {},
     "output_type": "execute_result"
    }
   ]
  },
  {
   "cell_type": "markdown",
   "metadata": {
    "id": "uGTZ7crhgXBN"
   },
   "source": [
    "No hi ha cap columna amb NULLS per tant ara volem definir quines d'aquestes variables serán útils per al nostre objectiu. (Eliminem les variables que no volem)\n"
   ]
  },
  {
   "cell_type": "code",
   "metadata": {
    "id": "RTYucB16iLDj"
   },
   "source": [
    "data = data.drop(['school', 'famsize', 'Pstatus', 'Fedu', 'Medu', 'Fjob', 'Mjob', 'reason', 'guardian', 'traveltime', 'famsup', 'nursery',  'internet', 'goout', 'Dalc'], axis = 1)"
   ],
   "execution_count": 139,
   "outputs": []
  },
  {
   "cell_type": "code",
   "metadata": {
    "colab": {
     "base_uri": "https://localhost:8080/"
    },
    "id": "SEJoL7CriMDb",
    "outputId": "e5d091e3-d663-46ff-cc6a-2dac2d8c00c8"
   },
   "source": [
    "data.shape"
   ],
   "execution_count": 140,
   "outputs": [
    {
     "data": {
      "text/plain": "(395, 18)"
     },
     "execution_count": 140,
     "metadata": {},
     "output_type": "execute_result"
    }
   ]
  },
  {
   "cell_type": "markdown",
   "metadata": {
    "id": "ouUj4EDKi0fB"
   },
   "source": [
    "# **Data Transformation**\n",
    "\n"
   ]
  },
  {
   "cell_type": "code",
   "metadata": {
    "id": "hvHWgcA-qaBy"
   },
   "source": [],
   "execution_count": 140,
   "outputs": []
  },
  {
   "cell_type": "code",
   "metadata": {
    "colab": {
     "base_uri": "https://localhost:8080/"
    },
    "id": "p_ffPnjAoWtH",
    "outputId": "4f271d5b-86d2-4db6-a5d3-4e9d69312ee3"
   },
   "source": [
    "\n",
    "\n",
    "data.nunique()\n",
    "\n",
    "\n"
   ],
   "execution_count": 141,
   "outputs": [
    {
     "data": {
      "text/plain": "sex            2\nage            8\naddress        2\nstudytime      4\nfailures       4\nschoolsup      2\npaid           2\nactivities     2\nhigher         2\nromantic       2\nfamrel         5\nfreetime       5\nWalc           5\nhealth         5\nabsences      34\nG1            17\nG2            17\nG3            18\ndtype: int64"
     },
     "execution_count": 141,
     "metadata": {},
     "output_type": "execute_result"
    }
   ]
  },
  {
   "cell_type": "code",
   "metadata": {
    "colab": {
     "base_uri": "https://localhost:8080/",
     "height": 206
    },
    "id": "KZlQf7mYrAID",
    "outputId": "92e052ea-24d1-40d1-bd94-96387338ec44"
   },
   "source": [
    "data.head()"
   ],
   "execution_count": 142,
   "outputs": [
    {
     "data": {
      "text/plain": "  sex  age address  studytime  failures schoolsup paid activities higher  \\\n0   F   18       U          2         0       yes   no         no    yes   \n1   F   17       U          2         0        no   no         no    yes   \n2   F   15       U          2         3       yes  yes         no    yes   \n3   F   15       U          3         0        no  yes        yes    yes   \n4   F   16       U          2         0        no  yes         no    yes   \n\n  romantic  famrel  freetime  Walc  health  absences  G1  G2  G3  \n0       no       4         3     1       3         6   5   6   6  \n1       no       5         3     1       3         4   5   5   6  \n2       no       4         3     3       3        10   7   8  10  \n3      yes       3         2     1       5         2  15  14  15  \n4       no       4         3     2       5         4   6  10  10  ",
      "text/html": "<div>\n<style scoped>\n    .dataframe tbody tr th:only-of-type {\n        vertical-align: middle;\n    }\n\n    .dataframe tbody tr th {\n        vertical-align: top;\n    }\n\n    .dataframe thead th {\n        text-align: right;\n    }\n</style>\n<table border=\"1\" class=\"dataframe\">\n  <thead>\n    <tr style=\"text-align: right;\">\n      <th></th>\n      <th>sex</th>\n      <th>age</th>\n      <th>address</th>\n      <th>studytime</th>\n      <th>failures</th>\n      <th>schoolsup</th>\n      <th>paid</th>\n      <th>activities</th>\n      <th>higher</th>\n      <th>romantic</th>\n      <th>famrel</th>\n      <th>freetime</th>\n      <th>Walc</th>\n      <th>health</th>\n      <th>absences</th>\n      <th>G1</th>\n      <th>G2</th>\n      <th>G3</th>\n    </tr>\n  </thead>\n  <tbody>\n    <tr>\n      <th>0</th>\n      <td>F</td>\n      <td>18</td>\n      <td>U</td>\n      <td>2</td>\n      <td>0</td>\n      <td>yes</td>\n      <td>no</td>\n      <td>no</td>\n      <td>yes</td>\n      <td>no</td>\n      <td>4</td>\n      <td>3</td>\n      <td>1</td>\n      <td>3</td>\n      <td>6</td>\n      <td>5</td>\n      <td>6</td>\n      <td>6</td>\n    </tr>\n    <tr>\n      <th>1</th>\n      <td>F</td>\n      <td>17</td>\n      <td>U</td>\n      <td>2</td>\n      <td>0</td>\n      <td>no</td>\n      <td>no</td>\n      <td>no</td>\n      <td>yes</td>\n      <td>no</td>\n      <td>5</td>\n      <td>3</td>\n      <td>1</td>\n      <td>3</td>\n      <td>4</td>\n      <td>5</td>\n      <td>5</td>\n      <td>6</td>\n    </tr>\n    <tr>\n      <th>2</th>\n      <td>F</td>\n      <td>15</td>\n      <td>U</td>\n      <td>2</td>\n      <td>3</td>\n      <td>yes</td>\n      <td>yes</td>\n      <td>no</td>\n      <td>yes</td>\n      <td>no</td>\n      <td>4</td>\n      <td>3</td>\n      <td>3</td>\n      <td>3</td>\n      <td>10</td>\n      <td>7</td>\n      <td>8</td>\n      <td>10</td>\n    </tr>\n    <tr>\n      <th>3</th>\n      <td>F</td>\n      <td>15</td>\n      <td>U</td>\n      <td>3</td>\n      <td>0</td>\n      <td>no</td>\n      <td>yes</td>\n      <td>yes</td>\n      <td>yes</td>\n      <td>yes</td>\n      <td>3</td>\n      <td>2</td>\n      <td>1</td>\n      <td>5</td>\n      <td>2</td>\n      <td>15</td>\n      <td>14</td>\n      <td>15</td>\n    </tr>\n    <tr>\n      <th>4</th>\n      <td>F</td>\n      <td>16</td>\n      <td>U</td>\n      <td>2</td>\n      <td>0</td>\n      <td>no</td>\n      <td>yes</td>\n      <td>no</td>\n      <td>yes</td>\n      <td>no</td>\n      <td>4</td>\n      <td>3</td>\n      <td>2</td>\n      <td>5</td>\n      <td>4</td>\n      <td>6</td>\n      <td>10</td>\n      <td>10</td>\n    </tr>\n  </tbody>\n</table>\n</div>"
     },
     "execution_count": 142,
     "metadata": {},
     "output_type": "execute_result"
    }
   ]
  },
  {
   "cell_type": "markdown",
   "metadata": {
    "id": "z6jh9vispRE0"
   },
   "source": [
    "# **Taking all data x and y**"
   ]
  },
  {
   "cell_type": "code",
   "metadata": {
    "id": "zLuQfiELphou",
    "colab": {
     "base_uri": "https://localhost:8080/",
     "height": 246
    },
    "outputId": "900dbc92-dc11-46e0-f7b0-e3027593ab0e"
   },
   "source": [],
   "execution_count": 142,
   "outputs": []
  },
  {
   "cell_type": "code",
   "metadata": {
    "id": "f72C0isthOrV"
   },
   "source": [],
   "execution_count": 142,
   "outputs": []
  },
  {
   "cell_type": "code",
   "metadata": {
    "colab": {
     "base_uri": "https://localhost:8080/",
     "height": 1000
    },
    "id": "ZFCxKbZwh2PD",
    "outputId": "886220e4-fb5e-4863-fbb4-1a691910b863"
   },
   "source": [],
   "execution_count": 142,
   "outputs": []
  },
  {
   "cell_type": "code",
   "execution_count": 143,
   "outputs": [
    {
     "data": {
      "text/plain": "<Figure size 1080x864 with 2 Axes>",
      "image/png": "[encoded data removed]"
     },
     "metadata": {
      "needs_background": "light"
     },
     "output_type": "display_data"
    }
   ],
   "source": [
    "\n",
    "fig, ax = plt.subplots(nrows=1,ncols=1,figsize=(15,12))\n",
    "\n",
    "ax = sns.heatmap(data=data.corr(), ax=ax,annot=True, cmap=\"coolwarm\")\n",
    "ax.set_xlabel('Features',fontdict={\"fontsize\":16})\n",
    "ax.set_ylabel('Features',fontdict={\"fontsize\":16})\n",
    "ax.set_title('Correlation between different Features', loc=\"center\", fontdict={\"fontsize\": 16, \"fontweight\":\"bold\"})\n",
    "\n",
    "plt.show()"
   ],
   "metadata": {
    "collapsed": false,
    "pycharm": {
     "name": "#%%\n"
    }
   }
  },
  {
   "cell_type": "code",
   "metadata": {
    "id": "Jf6q6gliis2a"
   },
   "source": [
    "import numpy as np\n",
    "from sklearn.metrics import mean_squared_error\n",
    "\n",
    "def mse(v1, v2):\n",
    "    return ((v1 - v2)**2).mean()\n",
    "\n"
   ],
   "execution_count": 144,
   "outputs": []
  },
  {
   "cell_type": "code",
   "execution_count": 145,
   "outputs": [],
   "source": [
    "from sklearn.linear_model import LinearRegression\n",
    "def regression(x, y):\n",
    "    # Creem un objecte de regressió de sklearn\n",
    "\n",
    "    regr = LinearRegression()\n",
    "\n",
    "    # Entrenem el model per a predir y a partir de x\n",
    "    regr.fit(x, y)\n",
    "\n",
    "    # Retornem el model entrenat\n",
    "    return regr\n",
    "\n"
   ],
   "metadata": {
    "collapsed": false,
    "pycharm": {
     "name": "#%%\n"
    }
   }
  },
  {
   "cell_type": "code",
   "execution_count": 146,
   "outputs": [],
   "source": [
    "## Transforming data unicode"
   ],
   "metadata": {
    "collapsed": false,
    "pycharm": {
     "name": "#%%\n"
    }
   }
  },
  {
   "cell_type": "code",
   "execution_count": 147,
   "outputs": [],
   "source": [
    "\n",
    "data['schoolsup'] = data['schoolsup'].replace(['no'],0)\n",
    "data['schoolsup'] = data['schoolsup'].replace(['yes'],1)\n",
    "data['sex'] = data['sex'].replace(['M'],0)\n",
    "data['sex'] = data['sex'].replace(['F'],1)\n",
    "\n",
    "data['address'] = data['address'].replace(['U'],0)\n",
    "data['address'] = data['address'].replace(['R'],1)\n",
    "#No --> 0\n",
    "#Yes -->1\n",
    "data['paid'] = data['paid'].replace(['no'],0)\n",
    "data['paid'] = data['paid'].replace(['yes'],1)\n",
    "data['activities'] = data['activities'].replace(['no'],0)\n",
    "data['activities'] = data['activities'].replace(['yes'],1)\n",
    "data['romantic'] = data['romantic'].replace(['no'],0)\n",
    "data['romantic'] = data['romantic'].replace(['yes'],1)\n",
    "data['higher'] = data['higher'].replace(['no'],0)\n",
    "data['higher'] = data['higher'].replace(['yes'],1)\n",
    "x = data.iloc[:,:-1]\n",
    "y = data.iloc[:,-1]"
   ],
   "metadata": {
    "collapsed": false,
    "pycharm": {
     "name": "#%%\n"
    }
   }
  },
  {
   "cell_type": "code",
   "execution_count": 148,
   "outputs": [],
   "source": [
    "#Normalization linear\n",
    "min_max = MinMaxScaler()\n",
    "dataNormalize = min_max.fit_transform(data)\n",
    "\n",
    "df = pd.DataFrame(dataNormalize, columns=['sex','age','address',  'studytime' , 'failures' ,\n",
    "                                          'schoolsup', 'paid', 'activities' ,'higher',\n",
    "                                          'romantic' , 'famrel' ,' freetime ' ,'Walc','health','absences' , 'G1' ,' G2', 'G3'])\n",
    "\n",
    "x_df =  df.iloc[:,:-1]\n",
    "y_df = df.iloc[:,-1]\n",
    "\n",
    "\n"
   ],
   "metadata": {
    "collapsed": false,
    "pycharm": {
     "name": "#%%\n"
    }
   }
  },
  {
   "cell_type": "code",
   "execution_count": 149,
   "outputs": [
    {
     "name": "stdout",
     "output_type": "stream",
     "text": [
      "[[ 0.94817639  1.02304645 -0.53539233 ...  0.03642446 -1.78246688\n",
      "  -1.25479105]\n",
      " [ 0.94817639  0.23837976 -0.53539233 ... -0.21379577 -1.78246688\n",
      "  -1.52097927]\n",
      " [ 0.94817639 -1.33095364 -0.53539233 ...  0.53686493 -1.1791469\n",
      "  -0.72241461]\n",
      " ...\n",
      " [-1.05465609  3.37704655  1.86778916 ... -0.33890588 -0.27416693\n",
      "  -0.72241461]\n",
      " [-1.05465609  1.02304645  1.86778916 ... -0.71423623  0.02749306\n",
      "   0.34233827]\n",
      " [-1.05465609  1.80771315 -0.53539233 ... -0.08868565 -0.87748691\n",
      "  -0.45622639]]\n"
     ]
    }
   ],
   "source": [
    "##Aplying standarization\n",
    "# we need x to have x standarize. We already normalize so we probably dont need it\n",
    "x = x_df.to_numpy()\n",
    "\n",
    "\n",
    "def standarize(x_train):\n",
    "    mean = x_train.mean(0)\n",
    "    std = x_train.std(0)\n",
    "    x_t = x_train - mean[None, :]\n",
    "    x_t /= std[None, :]\n",
    "    return x_t\n",
    "\n",
    "x_t = standarize(x)\n",
    "\n",
    "print(x_t)\n"
   ],
   "metadata": {
    "collapsed": false,
    "pycharm": {
     "name": "#%%\n"
    }
   }
  },
  {
   "cell_type": "code",
   "execution_count": 150,
   "outputs": [
    {
     "name": "stdout",
     "output_type": "stream",
     "text": [
      "     sex       age  address  studytime  failures  schoolsup  paid  activities  \\\n",
      "0    1.0  0.428571      0.0   0.333333  0.000000        1.0   0.0         0.0   \n",
      "1    1.0  0.285714      0.0   0.333333  0.000000        0.0   0.0         0.0   \n",
      "2    1.0  0.000000      0.0   0.333333  1.000000        1.0   1.0         0.0   \n",
      "3    1.0  0.000000      0.0   0.666667  0.000000        0.0   1.0         1.0   \n",
      "4    1.0  0.142857      0.0   0.333333  0.000000        0.0   1.0         0.0   \n",
      "..   ...       ...      ...        ...       ...        ...   ...         ...   \n",
      "390  0.0  0.714286      0.0   0.333333  0.666667        0.0   1.0         0.0   \n",
      "391  0.0  0.285714      0.0   0.000000  0.000000        0.0   0.0         0.0   \n",
      "392  0.0  0.857143      1.0   0.000000  1.000000        0.0   0.0         0.0   \n",
      "393  0.0  0.428571      1.0   0.000000  0.000000        0.0   0.0         0.0   \n",
      "394  0.0  0.571429      0.0   0.000000  0.000000        0.0   0.0         0.0   \n",
      "\n",
      "     higher  romantic  famrel   freetime   Walc  health  absences      G1  \\\n",
      "0       1.0       0.0    0.75        0.50  0.00    0.50  0.080000  0.1250   \n",
      "1       1.0       0.0    1.00        0.50  0.00    0.50  0.053333  0.1250   \n",
      "2       1.0       0.0    0.75        0.50  0.50    0.50  0.133333  0.2500   \n",
      "3       1.0       1.0    0.50        0.25  0.00    1.00  0.026667  0.7500   \n",
      "4       1.0       0.0    0.75        0.50  0.25    1.00  0.053333  0.1875   \n",
      "..      ...       ...     ...         ...   ...     ...       ...     ...   \n",
      "390     1.0       0.0    1.00        1.00  1.00    0.75  0.146667  0.3750   \n",
      "391     1.0       0.0    0.25        0.75  0.75    0.25  0.040000  0.6875   \n",
      "392     1.0       0.0    1.00        1.00  0.50    0.50  0.040000  0.4375   \n",
      "393     1.0       0.0    0.75        0.75  0.75    1.00  0.000000  0.5000   \n",
      "394     1.0       0.0    0.50        0.25  0.50    1.00  0.066667  0.3125   \n",
      "\n",
      "           G2  \n",
      "0    0.315789  \n",
      "1    0.263158  \n",
      "2    0.421053  \n",
      "3    0.736842  \n",
      "4    0.526316  \n",
      "..        ...  \n",
      "390  0.473684  \n",
      "391  0.842105  \n",
      "392  0.421053  \n",
      "393  0.631579  \n",
      "394  0.473684  \n",
      "\n",
      "[395 rows x 17 columns]\n"
     ]
    },
    {
     "data": {
      "text/plain": "<Figure size 432x288 with 1 Axes>",
      "image/png": "[encoded data removed]"
     },
     "metadata": {
      "needs_background": "light"
     },
     "output_type": "display_data"
    }
   ],
   "source": [
    "##Se puede mostrar el lineal normalize y el standarize normalize\n",
    "\n",
    "print(x_df)\n",
    "plt.figure()\n",
    "plt.title(\"Histograma de l'atribut 0\")\n",
    "plt.xlabel(\"Attribute Value\")\n",
    "plt.ylabel(\"Count\")\n",
    "hist = plt.hist(x[:,15], bins=11, range=[np.min(x[:,0]), np.max(x[:,0])], histtype=\"bar\", rwidth=0.8)"
   ],
   "metadata": {
    "collapsed": false,
    "pycharm": {
     "name": "#%%\n"
    }
   }
  },
  {
   "cell_type": "code",
   "execution_count": 151,
   "outputs": [
    {
     "name": "stderr",
     "output_type": "stream",
     "text": [
      "/var/folders/p5/lqmtl3dd4b7_xq65rgrxjh580000gn/T/ipykernel_26446/731611770.py:1: FutureWarning: In a future version of pandas all arguments of DataFrame.drop except for the argument 'labels' will be keyword-only\n",
      "  data.drop(['G2'],1).hist()\n"
     ]
    },
    {
     "data": {
      "text/plain": "array([[<AxesSubplot:title={'center':'sex'}>,\n        <AxesSubplot:title={'center':'age'}>,\n        <AxesSubplot:title={'center':'address'}>,\n        <AxesSubplot:title={'center':'studytime'}>],\n       [<AxesSubplot:title={'center':'failures'}>,\n        <AxesSubplot:title={'center':'schoolsup'}>,\n        <AxesSubplot:title={'center':'paid'}>,\n        <AxesSubplot:title={'center':'activities'}>],\n       [<AxesSubplot:title={'center':'higher'}>,\n        <AxesSubplot:title={'center':'romantic'}>,\n        <AxesSubplot:title={'center':'famrel'}>,\n        <AxesSubplot:title={'center':'freetime'}>],\n       [<AxesSubplot:title={'center':'Walc'}>,\n        <AxesSubplot:title={'center':'health'}>,\n        <AxesSubplot:title={'center':'absences'}>,\n        <AxesSubplot:title={'center':'G1'}>],\n       [<AxesSubplot:title={'center':'G3'}>, <AxesSubplot:>,\n        <AxesSubplot:>, <AxesSubplot:>]], dtype=object)"
     },
     "execution_count": 151,
     "metadata": {},
     "output_type": "execute_result"
    },
    {
     "data": {
      "text/plain": "<Figure size 432x288 with 20 Axes>",
      "image/png": "[encoded data removed]"
     },
     "metadata": {
      "needs_background": "light"
     },
     "output_type": "display_data"
    }
   ],
   "source": [
    "data.drop(['G2'],1).hist()"
   ],
   "metadata": {
    "collapsed": false,
    "pycharm": {
     "name": "#%%\n"
    }
   }
  },
  {
   "cell_type": "code",
   "execution_count": 152,
   "outputs": [
    {
     "data": {
      "text/plain": "     sex       age  address  studytime  failures  schoolsup  paid  activities  \\\n0    1.0  0.428571      0.0   0.333333  0.000000        1.0   0.0         0.0   \n1    1.0  0.285714      0.0   0.333333  0.000000        0.0   0.0         0.0   \n2    1.0  0.000000      0.0   0.333333  1.000000        1.0   1.0         0.0   \n3    1.0  0.000000      0.0   0.666667  0.000000        0.0   1.0         1.0   \n4    1.0  0.142857      0.0   0.333333  0.000000        0.0   1.0         0.0   \n..   ...       ...      ...        ...       ...        ...   ...         ...   \n390  0.0  0.714286      0.0   0.333333  0.666667        0.0   1.0         0.0   \n391  0.0  0.285714      0.0   0.000000  0.000000        0.0   0.0         0.0   \n392  0.0  0.857143      1.0   0.000000  1.000000        0.0   0.0         0.0   \n393  0.0  0.428571      1.0   0.000000  0.000000        0.0   0.0         0.0   \n394  0.0  0.571429      0.0   0.000000  0.000000        0.0   0.0         0.0   \n\n     higher  romantic  famrel   freetime   Walc  health  absences      G1  \\\n0       1.0       0.0    0.75        0.50  0.00    0.50  0.080000  0.1250   \n1       1.0       0.0    1.00        0.50  0.00    0.50  0.053333  0.1250   \n2       1.0       0.0    0.75        0.50  0.50    0.50  0.133333  0.2500   \n3       1.0       1.0    0.50        0.25  0.00    1.00  0.026667  0.7500   \n4       1.0       0.0    0.75        0.50  0.25    1.00  0.053333  0.1875   \n..      ...       ...     ...         ...   ...     ...       ...     ...   \n390     1.0       0.0    1.00        1.00  1.00    0.75  0.146667  0.3750   \n391     1.0       0.0    0.25        0.75  0.75    0.25  0.040000  0.6875   \n392     1.0       0.0    1.00        1.00  0.50    0.50  0.040000  0.4375   \n393     1.0       0.0    0.75        0.75  0.75    1.00  0.000000  0.5000   \n394     1.0       0.0    0.50        0.25  0.50    1.00  0.066667  0.3125   \n\n           G2  \n0    0.315789  \n1    0.263158  \n2    0.421053  \n3    0.736842  \n4    0.526316  \n..        ...  \n390  0.473684  \n391  0.842105  \n392  0.421053  \n393  0.631579  \n394  0.473684  \n\n[395 rows x 17 columns]",
      "text/html": "<div>\n<style scoped>\n    .dataframe tbody tr th:only-of-type {\n        vertical-align: middle;\n    }\n\n    .dataframe tbody tr th {\n        vertical-align: top;\n    }\n\n    .dataframe thead th {\n        text-align: right;\n    }\n</style>\n<table border=\"1\" class=\"dataframe\">\n  <thead>\n    <tr style=\"text-align: right;\">\n      <th></th>\n      <th>sex</th>\n      <th>age</th>\n      <th>address</th>\n      <th>studytime</th>\n      <th>failures</th>\n      <th>schoolsup</th>\n      <th>paid</th>\n      <th>activities</th>\n      <th>higher</th>\n      <th>romantic</th>\n      <th>famrel</th>\n      <th>freetime</th>\n      <th>Walc</th>\n      <th>health</th>\n      <th>absences</th>\n      <th>G1</th>\n      <th>G2</th>\n    </tr>\n  </thead>\n  <tbody>\n    <tr>\n      <th>0</th>\n      <td>1.0</td>\n      <td>0.428571</td>\n      <td>0.0</td>\n      <td>0.333333</td>\n      <td>0.000000</td>\n      <td>1.0</td>\n      <td>0.0</td>\n      <td>0.0</td>\n      <td>1.0</td>\n      <td>0.0</td>\n      <td>0.75</td>\n      <td>0.50</td>\n      <td>0.00</td>\n      <td>0.50</td>\n      <td>0.080000</td>\n      <td>0.1250</td>\n      <td>0.315789</td>\n    </tr>\n    <tr>\n      <th>1</th>\n      <td>1.0</td>\n      <td>0.285714</td>\n      <td>0.0</td>\n      <td>0.333333</td>\n      <td>0.000000</td>\n      <td>0.0</td>\n      <td>0.0</td>\n      <td>0.0</td>\n      <td>1.0</td>\n      <td>0.0</td>\n      <td>1.00</td>\n      <td>0.50</td>\n      <td>0.00</td>\n      <td>0.50</td>\n      <td>0.053333</td>\n      <td>0.1250</td>\n      <td>0.263158</td>\n    </tr>\n    <tr>\n      <th>2</th>\n      <td>1.0</td>\n      <td>0.000000</td>\n      <td>0.0</td>\n      <td>0.333333</td>\n      <td>1.000000</td>\n      <td>1.0</td>\n      <td>1.0</td>\n      <td>0.0</td>\n      <td>1.0</td>\n      <td>0.0</td>\n      <td>0.75</td>\n      <td>0.50</td>\n      <td>0.50</td>\n      <td>0.50</td>\n      <td>0.133333</td>\n      <td>0.2500</td>\n      <td>0.421053</td>\n    </tr>\n    <tr>\n      <th>3</th>\n      <td>1.0</td>\n      <td>0.000000</td>\n      <td>0.0</td>\n      <td>0.666667</td>\n      <td>0.000000</td>\n      <td>0.0</td>\n      <td>1.0</td>\n      <td>1.0</td>\n      <td>1.0</td>\n      <td>1.0</td>\n      <td>0.50</td>\n      <td>0.25</td>\n      <td>0.00</td>\n      <td>1.00</td>\n      <td>0.026667</td>\n      <td>0.7500</td>\n      <td>0.736842</td>\n    </tr>\n    <tr>\n      <th>4</th>\n      <td>1.0</td>\n      <td>0.142857</td>\n      <td>0.0</td>\n      <td>0.333333</td>\n      <td>0.000000</td>\n      <td>0.0</td>\n      <td>1.0</td>\n      <td>0.0</td>\n      <td>1.0</td>\n      <td>0.0</td>\n      <td>0.75</td>\n      <td>0.50</td>\n      <td>0.25</td>\n      <td>1.00</td>\n      <td>0.053333</td>\n      <td>0.1875</td>\n      <td>0.526316</td>\n    </tr>\n    <tr>\n      <th>...</th>\n      <td>...</td>\n      <td>...</td>\n      <td>...</td>\n      <td>...</td>\n      <td>...</td>\n      <td>...</td>\n      <td>...</td>\n      <td>...</td>\n      <td>...</td>\n      <td>...</td>\n      <td>...</td>\n      <td>...</td>\n      <td>...</td>\n      <td>...</td>\n      <td>...</td>\n      <td>...</td>\n      <td>...</td>\n    </tr>\n    <tr>\n      <th>390</th>\n      <td>0.0</td>\n      <td>0.714286</td>\n      <td>0.0</td>\n      <td>0.333333</td>\n      <td>0.666667</td>\n      <td>0.0</td>\n      <td>1.0</td>\n      <td>0.0</td>\n      <td>1.0</td>\n      <td>0.0</td>\n      <td>1.00</td>\n      <td>1.00</td>\n      <td>1.00</td>\n      <td>0.75</td>\n      <td>0.146667</td>\n      <td>0.3750</td>\n      <td>0.473684</td>\n    </tr>\n    <tr>\n      <th>391</th>\n      <td>0.0</td>\n      <td>0.285714</td>\n      <td>0.0</td>\n      <td>0.000000</td>\n      <td>0.000000</td>\n      <td>0.0</td>\n      <td>0.0</td>\n      <td>0.0</td>\n      <td>1.0</td>\n      <td>0.0</td>\n      <td>0.25</td>\n      <td>0.75</td>\n      <td>0.75</td>\n      <td>0.25</td>\n      <td>0.040000</td>\n      <td>0.6875</td>\n      <td>0.842105</td>\n    </tr>\n    <tr>\n      <th>392</th>\n      <td>0.0</td>\n      <td>0.857143</td>\n      <td>1.0</td>\n      <td>0.000000</td>\n      <td>1.000000</td>\n      <td>0.0</td>\n      <td>0.0</td>\n      <td>0.0</td>\n      <td>1.0</td>\n      <td>0.0</td>\n      <td>1.00</td>\n      <td>1.00</td>\n      <td>0.50</td>\n      <td>0.50</td>\n      <td>0.040000</td>\n      <td>0.4375</td>\n      <td>0.421053</td>\n    </tr>\n    <tr>\n      <th>393</th>\n      <td>0.0</td>\n      <td>0.428571</td>\n      <td>1.0</td>\n      <td>0.000000</td>\n      <td>0.000000</td>\n      <td>0.0</td>\n      <td>0.0</td>\n      <td>0.0</td>\n      <td>1.0</td>\n      <td>0.0</td>\n      <td>0.75</td>\n      <td>0.75</td>\n      <td>0.75</td>\n      <td>1.00</td>\n      <td>0.000000</td>\n      <td>0.5000</td>\n      <td>0.631579</td>\n    </tr>\n    <tr>\n      <th>394</th>\n      <td>0.0</td>\n      <td>0.571429</td>\n      <td>0.0</td>\n      <td>0.000000</td>\n      <td>0.000000</td>\n      <td>0.0</td>\n      <td>0.0</td>\n      <td>0.0</td>\n      <td>1.0</td>\n      <td>0.0</td>\n      <td>0.50</td>\n      <td>0.25</td>\n      <td>0.50</td>\n      <td>1.00</td>\n      <td>0.066667</td>\n      <td>0.3125</td>\n      <td>0.473684</td>\n    </tr>\n  </tbody>\n</table>\n<p>395 rows × 17 columns</p>\n</div>"
     },
     "execution_count": 152,
     "metadata": {},
     "output_type": "execute_result"
    }
   ],
   "source": [
    "x_df"
   ],
   "metadata": {
    "collapsed": false,
    "pycharm": {
     "name": "#%%\n"
    }
   }
  },
  {
   "cell_type": "code",
   "execution_count": 153,
   "outputs": [],
   "source": [
    "from sklearn.metrics import r2_score\n",
    "\n"
   ],
   "metadata": {
    "collapsed": false,
    "pycharm": {
     "name": "#%%\n"
    }
   }
  },
  {
   "cell_type": "code",
   "execution_count": 154,
   "outputs": [
    {
     "name": "stdout",
     "output_type": "stream",
     "text": [
      "     sex       age  address  studytime  failures  schoolsup  paid  activities  \\\n",
      "0    1.0  0.428571      0.0   0.333333  0.000000        1.0   0.0         0.0   \n",
      "1    1.0  0.285714      0.0   0.333333  0.000000        0.0   0.0         0.0   \n",
      "2    1.0  0.000000      0.0   0.333333  1.000000        1.0   1.0         0.0   \n",
      "3    1.0  0.000000      0.0   0.666667  0.000000        0.0   1.0         1.0   \n",
      "4    1.0  0.142857      0.0   0.333333  0.000000        0.0   1.0         0.0   \n",
      "..   ...       ...      ...        ...       ...        ...   ...         ...   \n",
      "390  0.0  0.714286      0.0   0.333333  0.666667        0.0   1.0         0.0   \n",
      "391  0.0  0.285714      0.0   0.000000  0.000000        0.0   0.0         0.0   \n",
      "392  0.0  0.857143      1.0   0.000000  1.000000        0.0   0.0         0.0   \n",
      "393  0.0  0.428571      1.0   0.000000  0.000000        0.0   0.0         0.0   \n",
      "394  0.0  0.571429      0.0   0.000000  0.000000        0.0   0.0         0.0   \n",
      "\n",
      "     higher  romantic  famrel   freetime   Walc  health  absences      G1  \\\n",
      "0       1.0       0.0    0.75        0.50  0.00    0.50  0.080000  0.1250   \n",
      "1       1.0       0.0    1.00        0.50  0.00    0.50  0.053333  0.1250   \n",
      "2       1.0       0.0    0.75        0.50  0.50    0.50  0.133333  0.2500   \n",
      "3       1.0       1.0    0.50        0.25  0.00    1.00  0.026667  0.7500   \n",
      "4       1.0       0.0    0.75        0.50  0.25    1.00  0.053333  0.1875   \n",
      "..      ...       ...     ...         ...   ...     ...       ...     ...   \n",
      "390     1.0       0.0    1.00        1.00  1.00    0.75  0.146667  0.3750   \n",
      "391     1.0       0.0    0.25        0.75  0.75    0.25  0.040000  0.6875   \n",
      "392     1.0       0.0    1.00        1.00  0.50    0.50  0.040000  0.4375   \n",
      "393     1.0       0.0    0.75        0.75  0.75    1.00  0.000000  0.5000   \n",
      "394     1.0       0.0    0.50        0.25  0.50    1.00  0.066667  0.3125   \n",
      "\n",
      "           G2  \n",
      "0    0.315789  \n",
      "1    0.263158  \n",
      "2    0.421053  \n",
      "3    0.736842  \n",
      "4    0.526316  \n",
      "..        ...  \n",
      "390  0.473684  \n",
      "391  0.842105  \n",
      "392  0.421053  \n",
      "393  0.631579  \n",
      "394  0.473684  \n",
      "\n",
      "[395 rows x 17 columns]\n",
      "-0.12355672364446346\n",
      "Mean squeared error:  0.008375034246395569\n",
      "R2 score:  0.8399915363989907\n"
     ]
    },
    {
     "data": {
      "text/plain": "<Figure size 432x288 with 1 Axes>",
      "image/png": "[encoded data removed]"
     },
     "metadata": {
      "needs_background": "light"
     },
     "output_type": "display_data"
    }
   ],
   "source": [
    "# Gràfic amb totes les variables anteriors. Aquestes no tenen gran correlació.\n",
    "# Que passa si les eliminem i només tenim les que tenen correlació més gran de 60%\n",
    "# Quin MSE obtindriem?\n",
    "# Quin R2Score?\n",
    "\n",
    "\n",
    "regr = regression(x_df, y_df)\n",
    "predicted = regr.predict(x_df)\n",
    "\n",
    "\n",
    "# sns.ploet(failures, G3)\n",
    "print(x_df)\n",
    "x_df1 = x_df.to_numpy()\n",
    "plt.figure()\n",
    "# predicció de xx\n",
    "# s'ha de mutiplicar per xx per que es el range que li diem que ha de tirar\n",
    "# sino anira a tots.\n",
    "xx = np.arange(0, 1, 0.01)\n",
    "ax = plt.scatter(y, x_df1[:,16])\n",
    "plt.plot(regr.coef_[16] *  xx+ regr.intercept_ , xx,'r')\n",
    "\n",
    "print(regr.intercept_)\n",
    "MSE = mse(y_df, predicted)\n",
    "r2 = r2_score(y_df, predicted)\n",
    "\n",
    "print(\"Mean squeared error: \", MSE)\n",
    "print(\"R2 score: \", r2)"
   ],
   "metadata": {
    "collapsed": false,
    "pycharm": {
     "name": "#%%\n"
    }
   }
  },
  {
   "cell_type": "code",
   "execution_count": 155,
   "outputs": [],
   "source": [
    "\n",
    "data_total =  data.iloc[:,[15,16,17]]\n",
    "\n",
    "\n",
    "\n"
   ],
   "metadata": {
    "collapsed": false,
    "pycharm": {
     "name": "#%%\n"
    }
   }
  },
  {
   "cell_type": "code",
   "execution_count": 156,
   "outputs": [
    {
     "name": "stdout",
     "output_type": "stream",
     "text": [
      "(395,)\n",
      "(395, 2)\n",
      "Mean squeared error:  0.009308188940329028\n",
      "R2 score:  0.8221632333156185\n"
     ]
    },
    {
     "data": {
      "text/plain": "<Figure size 432x288 with 1 Axes>",
      "image/png": "[encoded data removed]"
     },
     "metadata": {
      "needs_background": "light"
     },
     "output_type": "display_data"
    }
   ],
   "source": [
    "# Quin MSE obtindriem? s'obté un MSE un pel més elevat que l'anterior PER QUE?\n",
    "# Quin R2Score?\n",
    "\n",
    "# sns.ploet(failures, G3)\n",
    "min_max = MinMaxScaler()\n",
    "dataNormalize_2 = min_max.fit_transform(data_total)\n",
    "\n",
    "\n",
    "total= pd.DataFrame(dataNormalize_2,columns=[\n",
    "                                          'G1' ,'G2', 'G3'])\n",
    "x1_ = total.iloc[:,:-1]\n",
    "y1_= total.iloc[:,-1]\n",
    "\n",
    "regr = regression(x1_, y1_)\n",
    "predicted = regr.predict(x1_)\n",
    "\n",
    "plt.figure()\n",
    "# predicció de xx\n",
    "# s'ha de mutiplicar per xx per que es el range que li diem que ha de tirar\n",
    "# sino anira a tots.\n",
    "print(y1_.shape)\n",
    "print(x1_.shape)\n",
    "xx = np.arange(0, 1, 0.01)\n",
    "ax = plt.scatter( y1_,x1_['G2'])\n",
    "plt.plot(regr.coef_[1] *  xx+ regr.intercept_ , xx,'r')\n",
    "\n",
    "\n",
    "MSE = mse(y1_, predicted)\n",
    "r2 = r2_score(y1_, predicted)\n",
    "\n",
    "print(\"Mean squeared error: \", MSE)\n",
    "print(\"R2 score: \", r2)\n",
    "\n"
   ],
   "metadata": {
    "collapsed": false,
    "pycharm": {
     "name": "#%%# Aquest gràfic es s'utilitzen els top 5 elements amb més regressió\n"
    }
   }
  },
  {
   "cell_type": "code",
   "execution_count": 157,
   "outputs": [
    {
     "data": {
      "text/plain": "\"WHAT TO DO NEXT??\\n\\n    Why MSE error is higher?\\n    Why R2 Score is lower?\\n\\n    Waht would happen just with G2 and G1?\\n\\n    Clean the code.\\n\\n    Documentation of variables. What we see? Why? Which variables we shoudn't use\\n    and why?\\n\\n    Can we do anything to improve de prediction?\\n\\n    \\n\""
     },
     "execution_count": 157,
     "metadata": {},
     "output_type": "execute_result"
    }
   ],
   "source": [
    "\n",
    "\"\"\"WHAT TO DO NEXT??\n",
    "\n",
    "    Why MSE error is higher?\n",
    "    Why R2 Score is lower?\n",
    "\n",
    "    Waht would happen just with G2 and G1?\n",
    "\n",
    "    Clean the code.\n",
    "\n",
    "    Documentation of variables. What we see? Why? Which variables we shoudn't use\n",
    "    and why?\n",
    "\n",
    "    Can we do anything to improve de prediction?\n",
    "\n",
    "    \n",
    "\"\"\""
   ],
   "metadata": {
    "collapsed": false,
    "pycharm": {
     "name": "#%%\n"
    }
   }
  },
  {
   "cell_type": "code",
   "execution_count": 158,
   "outputs": [
    {
     "name": "stdout",
     "output_type": "stream",
     "text": [
      "Error en atribut 0: 0.019528\n",
      "R2 score en atribut 0: 0.581616\n",
      "Error en atribut 1: 0.005212\n",
      "R2 score en atribut 1: 0.888328\n"
     ]
    }
   ],
   "source": [
    "\"\"\" Per a assegurar-nos que el model s'ajusta be a dades noves, no vistes,\n",
    "cal evaluar-lo en un conjunt de validacio (i un altre de test en situacions reals).\n",
    "Com que en aquest cas no en tenim, el generarem separant les dades en\n",
    "un 80% d'entrenament i un 20% de validació.\n",
    "\"\"\"\n",
    "\n",
    "def split_data(x, y, train_ratio=0.85):\n",
    "    indices = np.arange(x.shape[0])\n",
    "    np.random.shuffle(indices)\n",
    "    n_train = int(np.floor(x.shape[0]*train_ratio))\n",
    "    indices_train = indices[:n_train]\n",
    "    indices_val = indices[n_train:]\n",
    "    x_train = x[indices_train, :]\n",
    "    y_train = y[indices_train]\n",
    "    x_val = x[indices_val, :]\n",
    "    y_val = y[indices_val]\n",
    "    return x_train, y_train, x_val, y_val\n",
    "\n",
    "# Dividim dades d'entrenament\n",
    "x_train, y_train, x_val, y_val = split_data(x1_.to_numpy(), y1_.to_numpy())\n",
    "\n",
    "for i in range(x_train.shape[1]):\n",
    "    x_t = x_train[:,i] # seleccionem atribut i en conjunt de train\n",
    "    x_v = x_val[:,i] # seleccionem atribut i en conjunt de val.\n",
    "    x_t = np.reshape(x_t,(x_t.shape[0],1))\n",
    "    x_v = np.reshape(x_v,(x_v.shape[0],1))\n",
    "\n",
    "    regr = regression(x_t, y_train)\n",
    "    error = mse(y_val, regr.predict(x_v)) # calculem error\n",
    "    r2 = r2_score(y_val, regr.predict(x_v))\n",
    "\n",
    "    print(\"Error en atribut %d: %f\" %(i, error))\n",
    "    print(\"R2 score en atribut %d: %f\" %(i, r2))\n"
   ],
   "metadata": {
    "collapsed": false,
    "pycharm": {
     "name": "#%%\n"
    }
   }
  },
  {
   "cell_type": "code",
   "execution_count": 159,
   "outputs": [
    {
     "name": "stdout",
     "output_type": "stream",
     "text": [
      "     G1  G2\n",
      "0     5   6\n",
      "1     5   5\n",
      "2     7   8\n",
      "3    15  14\n",
      "4     6  10\n",
      "..   ..  ..\n",
      "390   9   9\n",
      "391  14  16\n",
      "392  10   8\n",
      "393  11  12\n",
      "394   8   9\n",
      "\n",
      "[395 rows x 2 columns]\n"
     ]
    }
   ],
   "source": [
    "x1_ = data_total =  data.iloc[:,[15,16]]\n",
    "y1_ = data['G3']\n",
    "print(x1_)\n",
    "mean_x = np.mean(x1_)\n",
    "mean_y = np.mean(y1_)\n",
    "x = x1_.to_numpy()\n",
    "y = y1_.to_numpy()\n",
    "\n"
   ],
   "metadata": {
    "collapsed": false,
    "pycharm": {
     "name": "#%%\n"
    }
   }
  },
  {
   "cell_type": "code",
   "execution_count": 160,
   "outputs": [
    {
     "name": "stdout",
     "output_type": "stream",
     "text": [
      "10.415189873417722\n",
      "G1    10.908861\n",
      "G2    10.713924\n",
      "dtype: float64\n",
      "m --> (x - mean_x * y - mean y) /  (x - mean_x ) ^ 2\n",
      "m = G1    1.106256\n",
      "G2    1.102112\n",
      "dtype: float64 \n",
      " c = G1   -1.652804\n",
      "G2   -1.392758\n",
      "dtype: float64\n"
     ]
    }
   ],
   "source": [
    "## aplying Linear regression without Scklearn\n",
    "# 1 calcular funció de cost --> mean squared error\n",
    "\n",
    "#calculate mean\n",
    "\n",
    "\n",
    "# total no.of input values\n",
    "m = len(x1_)\n",
    "\n",
    "# using the formula to calculate m & c\n",
    "numer = 0\n",
    "denom = 0\n",
    "print(mean_y)\n",
    "print(mean_x)\n",
    "\n",
    "for i in range(m):\n",
    "  numer += (x[i] - mean_x) * (y[i] - mean_y)\n",
    "  denom += (x[i] - mean_x) ** 2\n",
    "m = numer / denom\n",
    "c = mean_y - (m * mean_x)\n",
    "print(\"m --> (x - mean_x * y - mean y) /  (x - mean_x ) ^ 2\")\n",
    "print (f'm = {m} \\n c = {c}')"
   ],
   "metadata": {
    "collapsed": false,
    "pycharm": {
     "name": "#%%\n"
    }
   }
  },
  {
   "cell_type": "code",
   "execution_count": 161,
   "outputs": [
    {
     "data": {
      "text/plain": "<Figure size 432x288 with 1 Axes>",
      "image/png": "[encoded data removed]"
     },
     "metadata": {
      "needs_background": "light"
     },
     "output_type": "display_data"
    }
   ],
   "source": [
    "max_x = np.max(x)\n",
    "min_x = np.min(y)\n",
    "# calculating line values x and y\n",
    "X = np.linspace (min_x, max_x, 2)\n",
    "Y = c + m * X\n",
    "\n",
    "plt.plot(X, Y, color='#58b970', label='Regression Line')\n",
    "plt.scatter(x[:,1], y, c='#ef5423', label='data points')\n",
    "\n",
    "plt.xlabel('Head Size in cm')\n",
    "plt.ylabel('Brain Weight in grams')\n",
    "plt.legend()\n",
    "plt.show()\n"
   ],
   "metadata": {
    "collapsed": false,
    "pycharm": {
     "name": "#%%\n"
    }
   }
  },
  {
   "cell_type": "code",
   "execution_count": 163,
   "outputs": [
    {
     "name": "stdout",
     "output_type": "stream",
     "text": [
      "G1    0.999856\n",
      "G2    0.999705\n",
      "dtype: float64\n"
     ]
    }
   ],
   "source": [
    "from sklearn.metrics import r2_score\n",
    "# calculating R-squared value for measuring goodness of our model.\n",
    "\n",
    "\n",
    "\n",
    "ss_t = 0 #total sum of squares\n",
    "ss_r = 0 #total sum of square of residuals\n",
    "\n",
    "for i in range(int(2)): # val_count represents the no.of input x values\n",
    "  y_pred = c + m * X[i]\n",
    "  ss_t += (Y[i] - mean_y) ** 2\n",
    "  ss_r += (Y[i] - y_pred) ** 2\n",
    "r2 = 1 - (ss_r/ss_t)\n",
    "\n",
    "print(r2)"
   ],
   "metadata": {
    "collapsed": false,
    "pycharm": {
     "name": "#%%\n"
    }
   }
  }
 ]
}