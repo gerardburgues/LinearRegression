{
 "nbformat": 4,
 "nbformat_minor": 0,
 "metadata": {
  "colab": {
   "name": "Untitled1.ipynb",
   "provenance": [],
   "collapsed_sections": []
  },
  "kernelspec": {
   "name": "python3",
   "language": "python",
   "display_name": "Python 3 (ipykernel)"
  },
  "language_info": {
   "name": "python"
  }
 },
 "cells": [
  {
   "cell_type": "markdown",
   "metadata": {
    "id": "bs_6C1-0ecwH"
   },
   "source": []
  },
  {
   "cell_type": "code",
   "metadata": {
    "id": "OMPXRwN2eb2W"
   },
   "source": [],
   "execution_count": 486,
   "outputs": []
  },
  {
   "cell_type": "markdown",
   "metadata": {
    "id": "n1otHuldefWb"
   },
   "source": [
    "# **Llibreries**\n",
    "Importem les llibreries que voldrem utilitzar en el projecte."
   ]
  },
  {
   "cell_type": "code",
   "metadata": {
    "id": "cl1M_141ekbs"
   },
   "source": [
    "import numpy as np\n",
    "import pandas as pd\n",
    "import scipy.stats\n",
    "import seaborn as sns\n",
    "from matplotlib import pyplot as plt"
   ],
   "execution_count": 487,
   "outputs": []
  },
  {
   "cell_type": "code",
   "metadata": {
    "id": "YmO8PEzljoc-"
   },
   "source": [
    "from sklearn.datasets import make_regression\n",
    "from sklearn.model_selection import train_test_split\n",
    "\n"
   ],
   "execution_count": 488,
   "outputs": []
  },
  {
   "cell_type": "markdown",
   "metadata": {
    "id": "YwN3y5BVe7Qe"
   },
   "source": [
    "# **Dades**\n",
    "Llegim el csv amb totes les dades disponibles i les mostrem per pantalla"
   ]
  },
  {
   "cell_type": "code",
   "metadata": {
    "id": "Dm6IUUO7fGM8"
   },
   "source": [
    "from sklearn.preprocessing import MinMaxScaler\n",
    "data = pd.read_csv(\"student-mat.csv\")"
   ],
   "execution_count": 489,
   "outputs": []
  },
  {
   "cell_type": "code",
   "metadata": {
    "colab": {
     "base_uri": "https://localhost:8080/",
     "height": 226
    },
    "id": "ftJ_OpZBfsI6",
    "outputId": "b3d37bc2-4ecd-4204-d835-21a9007bd32a"
   },
   "source": [
    "data.head()"
   ],
   "execution_count": 490,
   "outputs": [
    {
     "data": {
      "text/plain": "  school sex  age address famsize Pstatus  Medu  Fedu     Mjob      Fjob  ...  \\\n0     GP   F   18       U     GT3       A     4     4  at_home   teacher  ...   \n1     GP   F   17       U     GT3       T     1     1  at_home     other  ...   \n2     GP   F   15       U     LE3       T     1     1  at_home     other  ...   \n3     GP   F   15       U     GT3       T     4     2   health  services  ...   \n4     GP   F   16       U     GT3       T     3     3    other     other  ...   \n\n  famrel freetime  goout  Dalc  Walc health absences  G1  G2  G3  \n0      4        3      4     1     1      3        6   5   6   6  \n1      5        3      3     1     1      3        4   5   5   6  \n2      4        3      2     2     3      3       10   7   8  10  \n3      3        2      2     1     1      5        2  15  14  15  \n4      4        3      2     1     2      5        4   6  10  10  \n\n[5 rows x 33 columns]",
      "text/html": "<div>\n<style scoped>\n    .dataframe tbody tr th:only-of-type {\n        vertical-align: middle;\n    }\n\n    .dataframe tbody tr th {\n        vertical-align: top;\n    }\n\n    .dataframe thead th {\n        text-align: right;\n    }\n</style>\n<table border=\"1\" class=\"dataframe\">\n  <thead>\n    <tr style=\"text-align: right;\">\n      <th></th>\n      <th>school</th>\n      <th>sex</th>\n      <th>age</th>\n      <th>address</th>\n      <th>famsize</th>\n      <th>Pstatus</th>\n      <th>Medu</th>\n      <th>Fedu</th>\n      <th>Mjob</th>\n      <th>Fjob</th>\n      <th>...</th>\n      <th>famrel</th>\n      <th>freetime</th>\n      <th>goout</th>\n      <th>Dalc</th>\n      <th>Walc</th>\n      <th>health</th>\n      <th>absences</th>\n      <th>G1</th>\n      <th>G2</th>\n      <th>G3</th>\n    </tr>\n  </thead>\n  <tbody>\n    <tr>\n      <th>0</th>\n      <td>GP</td>\n      <td>F</td>\n      <td>18</td>\n      <td>U</td>\n      <td>GT3</td>\n      <td>A</td>\n      <td>4</td>\n      <td>4</td>\n      <td>at_home</td>\n      <td>teacher</td>\n      <td>...</td>\n      <td>4</td>\n      <td>3</td>\n      <td>4</td>\n      <td>1</td>\n      <td>1</td>\n      <td>3</td>\n      <td>6</td>\n      <td>5</td>\n      <td>6</td>\n      <td>6</td>\n    </tr>\n    <tr>\n      <th>1</th>\n      <td>GP</td>\n      <td>F</td>\n      <td>17</td>\n      <td>U</td>\n      <td>GT3</td>\n      <td>T</td>\n      <td>1</td>\n      <td>1</td>\n      <td>at_home</td>\n      <td>other</td>\n      <td>...</td>\n      <td>5</td>\n      <td>3</td>\n      <td>3</td>\n      <td>1</td>\n      <td>1</td>\n      <td>3</td>\n      <td>4</td>\n      <td>5</td>\n      <td>5</td>\n      <td>6</td>\n    </tr>\n    <tr>\n      <th>2</th>\n      <td>GP</td>\n      <td>F</td>\n      <td>15</td>\n      <td>U</td>\n      <td>LE3</td>\n      <td>T</td>\n      <td>1</td>\n      <td>1</td>\n      <td>at_home</td>\n      <td>other</td>\n      <td>...</td>\n      <td>4</td>\n      <td>3</td>\n      <td>2</td>\n      <td>2</td>\n      <td>3</td>\n      <td>3</td>\n      <td>10</td>\n      <td>7</td>\n      <td>8</td>\n      <td>10</td>\n    </tr>\n    <tr>\n      <th>3</th>\n      <td>GP</td>\n      <td>F</td>\n      <td>15</td>\n      <td>U</td>\n      <td>GT3</td>\n      <td>T</td>\n      <td>4</td>\n      <td>2</td>\n      <td>health</td>\n      <td>services</td>\n      <td>...</td>\n      <td>3</td>\n      <td>2</td>\n      <td>2</td>\n      <td>1</td>\n      <td>1</td>\n      <td>5</td>\n      <td>2</td>\n      <td>15</td>\n      <td>14</td>\n      <td>15</td>\n    </tr>\n    <tr>\n      <th>4</th>\n      <td>GP</td>\n      <td>F</td>\n      <td>16</td>\n      <td>U</td>\n      <td>GT3</td>\n      <td>T</td>\n      <td>3</td>\n      <td>3</td>\n      <td>other</td>\n      <td>other</td>\n      <td>...</td>\n      <td>4</td>\n      <td>3</td>\n      <td>2</td>\n      <td>1</td>\n      <td>2</td>\n      <td>5</td>\n      <td>4</td>\n      <td>6</td>\n      <td>10</td>\n      <td>10</td>\n    </tr>\n  </tbody>\n</table>\n<p>5 rows × 33 columns</p>\n</div>"
     },
     "execution_count": 490,
     "metadata": {},
     "output_type": "execute_result"
    }
   ]
  },
  {
   "cell_type": "markdown",
   "metadata": {
    "id": "43Pkk0K3f20B"
   },
   "source": [
    "Podem veure totes les variables. <br>Podem trobar més informació com quantes columnes i files tenim. (Podemos explicar todas las variables aquí).\n"
   ]
  },
  {
   "cell_type": "code",
   "metadata": {
    "colab": {
     "base_uri": "https://localhost:8080/"
    },
    "id": "LmBmeEY3hgKS",
    "outputId": "243c3113-5386-4f19-adbb-9b3b19ad0f99"
   },
   "source": [
    "data.shape"
   ],
   "execution_count": 491,
   "outputs": [
    {
     "data": {
      "text/plain": "(395, 33)"
     },
     "execution_count": 491,
     "metadata": {},
     "output_type": "execute_result"
    }
   ]
  },
  {
   "cell_type": "markdown",
   "metadata": {
    "id": "J6W9dpcRhoAn"
   },
   "source": [
    "Tenim 395 files i 33 columnes. <br>\n",
    "Més info\n"
   ]
  },
  {
   "cell_type": "code",
   "metadata": {
    "colab": {
     "base_uri": "https://localhost:8080/",
     "height": 320
    },
    "id": "besd1ryNiD6P",
    "outputId": "939addcb-e046-4ffe-c4d2-7502623b1a2b"
   },
   "source": [
    "data.describe()"
   ],
   "execution_count": 492,
   "outputs": [
    {
     "data": {
      "text/plain": "              age        Medu        Fedu  traveltime   studytime    failures  \\\ncount  395.000000  395.000000  395.000000  395.000000  395.000000  395.000000   \nmean    16.696203    2.749367    2.521519    1.448101    2.035443    0.334177   \nstd      1.276043    1.094735    1.088201    0.697505    0.839240    0.743651   \nmin     15.000000    0.000000    0.000000    1.000000    1.000000    0.000000   \n25%     16.000000    2.000000    2.000000    1.000000    1.000000    0.000000   \n50%     17.000000    3.000000    2.000000    1.000000    2.000000    0.000000   \n75%     18.000000    4.000000    3.000000    2.000000    2.000000    0.000000   \nmax     22.000000    4.000000    4.000000    4.000000    4.000000    3.000000   \n\n           famrel    freetime       goout        Dalc        Walc      health  \\\ncount  395.000000  395.000000  395.000000  395.000000  395.000000  395.000000   \nmean     3.944304    3.235443    3.108861    1.481013    2.291139    3.554430   \nstd      0.896659    0.998862    1.113278    0.890741    1.287897    1.390303   \nmin      1.000000    1.000000    1.000000    1.000000    1.000000    1.000000   \n25%      4.000000    3.000000    2.000000    1.000000    1.000000    3.000000   \n50%      4.000000    3.000000    3.000000    1.000000    2.000000    4.000000   \n75%      5.000000    4.000000    4.000000    2.000000    3.000000    5.000000   \nmax      5.000000    5.000000    5.000000    5.000000    5.000000    5.000000   \n\n         absences          G1          G2          G3  \ncount  395.000000  395.000000  395.000000  395.000000  \nmean     5.708861   10.908861   10.713924   10.415190  \nstd      8.003096    3.319195    3.761505    4.581443  \nmin      0.000000    3.000000    0.000000    0.000000  \n25%      0.000000    8.000000    9.000000    8.000000  \n50%      4.000000   11.000000   11.000000   11.000000  \n75%      8.000000   13.000000   13.000000   14.000000  \nmax     75.000000   19.000000   19.000000   20.000000  ",
      "text/html": "<div>\n<style scoped>\n    .dataframe tbody tr th:only-of-type {\n        vertical-align: middle;\n    }\n\n    .dataframe tbody tr th {\n        vertical-align: top;\n    }\n\n    .dataframe thead th {\n        text-align: right;\n    }\n</style>\n<table border=\"1\" class=\"dataframe\">\n  <thead>\n    <tr style=\"text-align: right;\">\n      <th></th>\n      <th>age</th>\n      <th>Medu</th>\n      <th>Fedu</th>\n      <th>traveltime</th>\n      <th>studytime</th>\n      <th>failures</th>\n      <th>famrel</th>\n      <th>freetime</th>\n      <th>goout</th>\n      <th>Dalc</th>\n      <th>Walc</th>\n      <th>health</th>\n      <th>absences</th>\n      <th>G1</th>\n      <th>G2</th>\n      <th>G3</th>\n    </tr>\n  </thead>\n  <tbody>\n    <tr>\n      <th>count</th>\n      <td>395.000000</td>\n      <td>395.000000</td>\n      <td>395.000000</td>\n      <td>395.000000</td>\n      <td>395.000000</td>\n      <td>395.000000</td>\n      <td>395.000000</td>\n      <td>395.000000</td>\n      <td>395.000000</td>\n      <td>395.000000</td>\n      <td>395.000000</td>\n      <td>395.000000</td>\n      <td>395.000000</td>\n      <td>395.000000</td>\n      <td>395.000000</td>\n      <td>395.000000</td>\n    </tr>\n    <tr>\n      <th>mean</th>\n      <td>16.696203</td>\n      <td>2.749367</td>\n      <td>2.521519</td>\n      <td>1.448101</td>\n      <td>2.035443</td>\n      <td>0.334177</td>\n      <td>3.944304</td>\n      <td>3.235443</td>\n      <td>3.108861</td>\n      <td>1.481013</td>\n      <td>2.291139</td>\n      <td>3.554430</td>\n      <td>5.708861</td>\n      <td>10.908861</td>\n      <td>10.713924</td>\n      <td>10.415190</td>\n    </tr>\n    <tr>\n      <th>std</th>\n      <td>1.276043</td>\n      <td>1.094735</td>\n      <td>1.088201</td>\n      <td>0.697505</td>\n      <td>0.839240</td>\n      <td>0.743651</td>\n      <td>0.896659</td>\n      <td>0.998862</td>\n      <td>1.113278</td>\n      <td>0.890741</td>\n      <td>1.287897</td>\n      <td>1.390303</td>\n      <td>8.003096</td>\n      <td>3.319195</td>\n      <td>3.761505</td>\n      <td>4.581443</td>\n    </tr>\n    <tr>\n      <th>min</th>\n      <td>15.000000</td>\n      <td>0.000000</td>\n      <td>0.000000</td>\n      <td>1.000000</td>\n      <td>1.000000</td>\n      <td>0.000000</td>\n      <td>1.000000</td>\n      <td>1.000000</td>\n      <td>1.000000</td>\n      <td>1.000000</td>\n      <td>1.000000</td>\n      <td>1.000000</td>\n      <td>0.000000</td>\n      <td>3.000000</td>\n      <td>0.000000</td>\n      <td>0.000000</td>\n    </tr>\n    <tr>\n      <th>25%</th>\n      <td>16.000000</td>\n      <td>2.000000</td>\n      <td>2.000000</td>\n      <td>1.000000</td>\n      <td>1.000000</td>\n      <td>0.000000</td>\n      <td>4.000000</td>\n      <td>3.000000</td>\n      <td>2.000000</td>\n      <td>1.000000</td>\n      <td>1.000000</td>\n      <td>3.000000</td>\n      <td>0.000000</td>\n      <td>8.000000</td>\n      <td>9.000000</td>\n      <td>8.000000</td>\n    </tr>\n    <tr>\n      <th>50%</th>\n      <td>17.000000</td>\n      <td>3.000000</td>\n      <td>2.000000</td>\n      <td>1.000000</td>\n      <td>2.000000</td>\n      <td>0.000000</td>\n      <td>4.000000</td>\n      <td>3.000000</td>\n      <td>3.000000</td>\n      <td>1.000000</td>\n      <td>2.000000</td>\n      <td>4.000000</td>\n      <td>4.000000</td>\n      <td>11.000000</td>\n      <td>11.000000</td>\n      <td>11.000000</td>\n    </tr>\n    <tr>\n      <th>75%</th>\n      <td>18.000000</td>\n      <td>4.000000</td>\n      <td>3.000000</td>\n      <td>2.000000</td>\n      <td>2.000000</td>\n      <td>0.000000</td>\n      <td>5.000000</td>\n      <td>4.000000</td>\n      <td>4.000000</td>\n      <td>2.000000</td>\n      <td>3.000000</td>\n      <td>5.000000</td>\n      <td>8.000000</td>\n      <td>13.000000</td>\n      <td>13.000000</td>\n      <td>14.000000</td>\n    </tr>\n    <tr>\n      <th>max</th>\n      <td>22.000000</td>\n      <td>4.000000</td>\n      <td>4.000000</td>\n      <td>4.000000</td>\n      <td>4.000000</td>\n      <td>3.000000</td>\n      <td>5.000000</td>\n      <td>5.000000</td>\n      <td>5.000000</td>\n      <td>5.000000</td>\n      <td>5.000000</td>\n      <td>5.000000</td>\n      <td>75.000000</td>\n      <td>19.000000</td>\n      <td>19.000000</td>\n      <td>20.000000</td>\n    </tr>\n  </tbody>\n</table>\n</div>"
     },
     "execution_count": 492,
     "metadata": {},
     "output_type": "execute_result"
    }
   ]
  },
  {
   "cell_type": "markdown",
   "metadata": {
    "id": "CEZJlcguoFmb"
   },
   "source": [
    "Ara volem saber si d'aquestes columnes hi alguna amb molt valors NULLS per poder treure-la."
   ]
  },
  {
   "cell_type": "code",
   "metadata": {
    "colab": {
     "base_uri": "https://localhost:8080/"
    },
    "id": "6mdVyMgGgUGZ",
    "outputId": "87347e56-17b4-4d8e-a21c-f48cf65bec6e"
   },
   "source": [
    "data.isnull().sum()"
   ],
   "execution_count": 493,
   "outputs": [
    {
     "data": {
      "text/plain": "school        0\nsex           0\nage           0\naddress       0\nfamsize       0\nPstatus       0\nMedu          0\nFedu          0\nMjob          0\nFjob          0\nreason        0\nguardian      0\ntraveltime    0\nstudytime     0\nfailures      0\nschoolsup     0\nfamsup        0\npaid          0\nactivities    0\nnursery       0\nhigher        0\ninternet      0\nromantic      0\nfamrel        0\nfreetime      0\ngoout         0\nDalc          0\nWalc          0\nhealth        0\nabsences      0\nG1            0\nG2            0\nG3            0\ndtype: int64"
     },
     "execution_count": 493,
     "metadata": {},
     "output_type": "execute_result"
    }
   ]
  },
  {
   "cell_type": "markdown",
   "metadata": {
    "id": "uGTZ7crhgXBN"
   },
   "source": [
    "No hi ha cap columna amb NULLS per tant ara volem definir quines d'aquestes variables serán útils per al nostre objectiu. (Eliminem les variables que no volem)\n"
   ]
  },
  {
   "cell_type": "code",
   "metadata": {
    "id": "RTYucB16iLDj"
   },
   "source": [
    "data = data.drop(['school', 'famsize', 'Pstatus', 'Fedu', 'Medu', 'Fjob', 'Mjob', 'reason', 'guardian', 'traveltime', 'famsup', 'nursery',  'internet', 'goout', 'Dalc'], axis = 1)"
   ],
   "execution_count": 494,
   "outputs": []
  },
  {
   "cell_type": "code",
   "metadata": {
    "colab": {
     "base_uri": "https://localhost:8080/"
    },
    "id": "SEJoL7CriMDb",
    "outputId": "e5d091e3-d663-46ff-cc6a-2dac2d8c00c8"
   },
   "source": [
    "data.shape"
   ],
   "execution_count": 495,
   "outputs": [
    {
     "data": {
      "text/plain": "(395, 18)"
     },
     "execution_count": 495,
     "metadata": {},
     "output_type": "execute_result"
    }
   ]
  },
  {
   "cell_type": "markdown",
   "metadata": {
    "id": "ouUj4EDKi0fB"
   },
   "source": [
    "# **Data Transformation**\n",
    "\n"
   ]
  },
  {
   "cell_type": "code",
   "metadata": {
    "id": "hvHWgcA-qaBy"
   },
   "source": [
    "\n",
    "\n",
    "# for yes / no values:\n",
    "d = {'yes': 1, 'no': 0}\n",
    "data['schoolsup'] = data['schoolsup'].map(d)"
   ],
   "execution_count": 496,
   "outputs": []
  },
  {
   "cell_type": "code",
   "metadata": {
    "id": "EJ-KLBITi-SS"
   },
   "source": [
    "d = {'F': 1, 'M': 0}\n",
    "data['sex'] = data['sex'].map(d)\n"
   ],
   "execution_count": 497,
   "outputs": []
  },
  {
   "cell_type": "code",
   "metadata": {
    "colab": {
     "base_uri": "https://localhost:8080/"
    },
    "id": "p_ffPnjAoWtH",
    "outputId": "4f271d5b-86d2-4db6-a5d3-4e9d69312ee3"
   },
   "source": [
    "\n",
    "\n",
    "data.nunique()\n",
    "\n",
    "\n"
   ],
   "execution_count": 498,
   "outputs": [
    {
     "data": {
      "text/plain": "sex            2\nage            8\naddress        2\nstudytime      4\nfailures       4\nschoolsup      2\npaid           2\nactivities     2\nhigher         2\nromantic       2\nfamrel         5\nfreetime       5\nWalc           5\nhealth         5\nabsences      34\nG1            17\nG2            17\nG3            18\ndtype: int64"
     },
     "execution_count": 498,
     "metadata": {},
     "output_type": "execute_result"
    }
   ]
  },
  {
   "cell_type": "code",
   "metadata": {
    "colab": {
     "base_uri": "https://localhost:8080/",
     "height": 206
    },
    "id": "KZlQf7mYrAID",
    "outputId": "92e052ea-24d1-40d1-bd94-96387338ec44"
   },
   "source": [
    "data.head()"
   ],
   "execution_count": 499,
   "outputs": [
    {
     "data": {
      "text/plain": "   sex  age address  studytime  failures  schoolsup paid activities higher  \\\n0    1   18       U          2         0          1   no         no    yes   \n1    1   17       U          2         0          0   no         no    yes   \n2    1   15       U          2         3          1  yes         no    yes   \n3    1   15       U          3         0          0  yes        yes    yes   \n4    1   16       U          2         0          0  yes         no    yes   \n\n  romantic  famrel  freetime  Walc  health  absences  G1  G2  G3  \n0       no       4         3     1       3         6   5   6   6  \n1       no       5         3     1       3         4   5   5   6  \n2       no       4         3     3       3        10   7   8  10  \n3      yes       3         2     1       5         2  15  14  15  \n4       no       4         3     2       5         4   6  10  10  ",
      "text/html": "<div>\n<style scoped>\n    .dataframe tbody tr th:only-of-type {\n        vertical-align: middle;\n    }\n\n    .dataframe tbody tr th {\n        vertical-align: top;\n    }\n\n    .dataframe thead th {\n        text-align: right;\n    }\n</style>\n<table border=\"1\" class=\"dataframe\">\n  <thead>\n    <tr style=\"text-align: right;\">\n      <th></th>\n      <th>sex</th>\n      <th>age</th>\n      <th>address</th>\n      <th>studytime</th>\n      <th>failures</th>\n      <th>schoolsup</th>\n      <th>paid</th>\n      <th>activities</th>\n      <th>higher</th>\n      <th>romantic</th>\n      <th>famrel</th>\n      <th>freetime</th>\n      <th>Walc</th>\n      <th>health</th>\n      <th>absences</th>\n      <th>G1</th>\n      <th>G2</th>\n      <th>G3</th>\n    </tr>\n  </thead>\n  <tbody>\n    <tr>\n      <th>0</th>\n      <td>1</td>\n      <td>18</td>\n      <td>U</td>\n      <td>2</td>\n      <td>0</td>\n      <td>1</td>\n      <td>no</td>\n      <td>no</td>\n      <td>yes</td>\n      <td>no</td>\n      <td>4</td>\n      <td>3</td>\n      <td>1</td>\n      <td>3</td>\n      <td>6</td>\n      <td>5</td>\n      <td>6</td>\n      <td>6</td>\n    </tr>\n    <tr>\n      <th>1</th>\n      <td>1</td>\n      <td>17</td>\n      <td>U</td>\n      <td>2</td>\n      <td>0</td>\n      <td>0</td>\n      <td>no</td>\n      <td>no</td>\n      <td>yes</td>\n      <td>no</td>\n      <td>5</td>\n      <td>3</td>\n      <td>1</td>\n      <td>3</td>\n      <td>4</td>\n      <td>5</td>\n      <td>5</td>\n      <td>6</td>\n    </tr>\n    <tr>\n      <th>2</th>\n      <td>1</td>\n      <td>15</td>\n      <td>U</td>\n      <td>2</td>\n      <td>3</td>\n      <td>1</td>\n      <td>yes</td>\n      <td>no</td>\n      <td>yes</td>\n      <td>no</td>\n      <td>4</td>\n      <td>3</td>\n      <td>3</td>\n      <td>3</td>\n      <td>10</td>\n      <td>7</td>\n      <td>8</td>\n      <td>10</td>\n    </tr>\n    <tr>\n      <th>3</th>\n      <td>1</td>\n      <td>15</td>\n      <td>U</td>\n      <td>3</td>\n      <td>0</td>\n      <td>0</td>\n      <td>yes</td>\n      <td>yes</td>\n      <td>yes</td>\n      <td>yes</td>\n      <td>3</td>\n      <td>2</td>\n      <td>1</td>\n      <td>5</td>\n      <td>2</td>\n      <td>15</td>\n      <td>14</td>\n      <td>15</td>\n    </tr>\n    <tr>\n      <th>4</th>\n      <td>1</td>\n      <td>16</td>\n      <td>U</td>\n      <td>2</td>\n      <td>0</td>\n      <td>0</td>\n      <td>yes</td>\n      <td>no</td>\n      <td>yes</td>\n      <td>no</td>\n      <td>4</td>\n      <td>3</td>\n      <td>2</td>\n      <td>5</td>\n      <td>4</td>\n      <td>6</td>\n      <td>10</td>\n      <td>10</td>\n    </tr>\n  </tbody>\n</table>\n</div>"
     },
     "execution_count": 499,
     "metadata": {},
     "output_type": "execute_result"
    }
   ]
  },
  {
   "cell_type": "markdown",
   "metadata": {
    "id": "z6jh9vispRE0"
   },
   "source": [
    "# **Taking all data x and y**"
   ]
  },
  {
   "cell_type": "code",
   "metadata": {
    "id": "zLuQfiELphou",
    "colab": {
     "base_uri": "https://localhost:8080/",
     "height": 246
    },
    "outputId": "900dbc92-dc11-46e0-f7b0-e3027593ab0e"
   },
   "source": [],
   "execution_count": 499,
   "outputs": []
  },
  {
   "cell_type": "code",
   "metadata": {
    "id": "f72C0isthOrV"
   },
   "source": [
    "\n",
    "def bar_plot(variable):\n",
    "    var = data[variable]\n",
    "    var_c = var.value_counts()\n",
    "\n",
    "    plt.figure(figsize= (5,5))\n",
    "    plt.bar(var_c.index, var_c)\n",
    "    plt.ylabel('Frequency')\n",
    "    plt.show()\n",
    "    print(\"{}\\n{}\".format(variable, var_c))\n"
   ],
   "execution_count": 500,
   "outputs": []
  },
  {
   "cell_type": "code",
   "metadata": {
    "colab": {
     "base_uri": "https://localhost:8080/",
     "height": 1000
    },
    "id": "ZFCxKbZwh2PD",
    "outputId": "886220e4-fb5e-4863-fbb4-1a691910b863"
   },
   "source": [
    "\n",
    "\n",
    "categorical = data.dtypes=='object'\n",
    "categorical_list = list(categorical[categorical].index)\n",
    "categorical_list\n",
    "\n",
    "for i in categorical_list:\n",
    "    bar_plot(i)\n",
    "\n"
   ],
   "execution_count": 501,
   "outputs": [
    {
     "data": {
      "text/plain": "<Figure size 360x360 with 1 Axes>",
      "image/png": "[encoded data removed]"
     },
     "metadata": {
      "needs_background": "light"
     },
     "output_type": "display_data"
    },
    {
     "name": "stdout",
     "output_type": "stream",
     "text": [
      "address\n",
      "U    307\n",
      "R     88\n",
      "Name: address, dtype: int64\n",
      "paid\n",
      "no     214\n",
      "yes    181\n",
      "Name: paid, dtype: int64\n",
      "activities\n",
      "yes    201\n",
      "no     194\n",
      "Name: activities, dtype: int64\n",
      "higher\n",
      "yes    375\n",
      "no      20\n",
      "Name: higher, dtype: int64\n",
      "romantic\n",
      "no     263\n",
      "yes    132\n",
      "Name: romantic, dtype: int64\n"
     ]
    },
    {
     "data": {
      "text/plain": "<Figure size 360x360 with 1 Axes>",
      "image/png": "[encoded data removed]"
     },
     "metadata": {
      "needs_background": "light"
     },
     "output_type": "display_data"
    },
    {
     "data": {
      "text/plain": "<Figure size 360x360 with 1 Axes>",
      "image/png": "[encoded data removed]"
     },
     "metadata": {
      "needs_background": "light"
     },
     "output_type": "display_data"
    },
    {
     "data": {
      "text/plain": "<Figure size 360x360 with 1 Axes>",
      "image/png": "[encoded data removed]"
     },
     "metadata": {
      "needs_background": "light"
     },
     "output_type": "display_data"
    },
    {
     "data": {
      "text/plain": "<Figure size 360x360 with 1 Axes>",
      "image/png": "[encoded data removed]"
     },
     "metadata": {
      "needs_background": "light"
     },
     "output_type": "display_data"
    }
   ]
  },
  {
   "cell_type": "code",
   "metadata": {
    "id": "Jf6q6gliis2a"
   },
   "source": [
    "import numpy as np\n",
    "from sklearn.metrics import mean_squared_error\n",
    "\n",
    "def mse(v1, v2):\n",
    "    return ((v1 - v2)**2).mean()\n",
    "\n"
   ],
   "execution_count": 502,
   "outputs": []
  },
  {
   "cell_type": "code",
   "execution_count": 503,
   "outputs": [],
   "source": [
    "from sklearn.linear_model import LinearRegression\n",
    "def regression(x, y):\n",
    "    # Creem un objecte de regressió de sklearn\n",
    "\n",
    "    regr = LinearRegression()\n",
    "\n",
    "    # Entrenem el model per a predir y a partir de x\n",
    "    regr.fit(x, y)\n",
    "\n",
    "    # Retornem el model entrenat\n",
    "    return regr\n",
    "\n"
   ],
   "metadata": {
    "collapsed": false,
    "pycharm": {
     "name": "#%%\n"
    }
   }
  },
  {
   "cell_type": "code",
   "execution_count": 504,
   "outputs": [
    {
     "name": "stdout",
     "output_type": "stream",
     "text": [
      "     sex  age address  studytime  failures  schoolsup paid activities higher  \\\n",
      "0      1   18       U          2         0          1   no         no    yes   \n",
      "1      1   17       U          2         0          0   no         no    yes   \n",
      "2      1   15       U          2         3          1  yes         no    yes   \n",
      "3      1   15       U          3         0          0  yes        yes    yes   \n",
      "4      1   16       U          2         0          0  yes         no    yes   \n",
      "..   ...  ...     ...        ...       ...        ...  ...        ...    ...   \n",
      "390    0   20       U          2         2          0  yes         no    yes   \n",
      "391    0   17       U          1         0          0   no         no    yes   \n",
      "392    0   21       R          1         3          0   no         no    yes   \n",
      "393    0   18       R          1         0          0   no         no    yes   \n",
      "394    0   19       U          1         0          0   no         no    yes   \n",
      "\n",
      "    romantic  famrel  freetime  Walc  health  absences  G1  G2  G3  \n",
      "0         no       4         3     1       3         6   5   6   6  \n",
      "1         no       5         3     1       3         4   5   5   6  \n",
      "2         no       4         3     3       3        10   7   8  10  \n",
      "3        yes       3         2     1       5         2  15  14  15  \n",
      "4         no       4         3     2       5         4   6  10  10  \n",
      "..       ...     ...       ...   ...     ...       ...  ..  ..  ..  \n",
      "390       no       5         5     5       4        11   9   9   9  \n",
      "391       no       2         4     4       2         3  14  16  16  \n",
      "392       no       5         5     3       3         3  10   8   7  \n",
      "393       no       4         4     4       5         0  11  12  10  \n",
      "394       no       3         2     3       5         5   8   9   9  \n",
      "\n",
      "[395 rows x 18 columns]\n",
      "sex           float64\n",
      "age           float64\n",
      "address       float64\n",
      "studytime     float64\n",
      "failures      float64\n",
      "schoolsup     float64\n",
      "paid          float64\n",
      "activities    float64\n",
      "higher        float64\n",
      "romantic      float64\n",
      "famrel        float64\n",
      " freetime     float64\n",
      "Walc          float64\n",
      "health        float64\n",
      "absences      float64\n",
      "G1            float64\n",
      " G2           float64\n",
      "dtype: object\n",
      "0      0.30\n",
      "1      0.30\n",
      "2      0.50\n",
      "3      0.75\n",
      "4      0.50\n",
      "       ... \n",
      "390    0.45\n",
      "391    0.80\n",
      "392    0.35\n",
      "393    0.50\n",
      "394    0.45\n",
      "Name: G3, Length: 395, dtype: float64\n"
     ]
    }
   ],
   "source": [
    "#transform data\n",
    "#Urban sera 0\n",
    "#Rural sera 1\n",
    "print(data)\n",
    "data['address'] = data['address'].replace(['U'],0)\n",
    "data['address'] = data['address'].replace(['R'],1)\n",
    "#No --> 0\n",
    "#Yes -->1\n",
    "data['paid'] = data['paid'].replace(['no'],0)\n",
    "data['paid'] = data['paid'].replace(['yes'],1)\n",
    "data['activities'] = data['activities'].replace(['no'],0)\n",
    "data['activities'] = data['activities'].replace(['yes'],1)\n",
    "data['romantic'] = data['romantic'].replace(['no'],0)\n",
    "data['romantic'] = data['romantic'].replace(['yes'],1)\n",
    "data['higher'] = data['higher'].replace(['no'],0)\n",
    "data['higher'] = data['higher'].replace(['yes'],1)\n",
    "x = data.iloc[:,:-1]\n",
    "y = data.iloc[:,-1]\n",
    "\n",
    "#Normalization\n",
    "min_max = MinMaxScaler()\n",
    "dataNormalize = min_max.fit_transform(data)\n",
    "\n",
    "\n",
    "#converting dataNormalize to x and y to pandas\n",
    "\n",
    "df = pd.DataFrame(dataNormalize, columns=['sex','age','address',  'studytime' , 'failures' ,\n",
    "                                          'schoolsup', 'paid', 'activities' ,'higher',\n",
    "                                          'romantic' , 'famrel' ,' freetime ' ,'Walc','health','absences' , 'G1' ,' G2', 'G3'])\n",
    "\n",
    "x_df =  df.iloc[:,:-1]\n",
    "y_df = df.iloc[:,-1]\n",
    "\n",
    "print(x_df.dtypes)\n",
    "print(y_df)\n"
   ],
   "metadata": {
    "collapsed": false,
    "pycharm": {
     "name": "#%%\n"
    }
   }
  },
  {
   "cell_type": "code",
   "execution_count": 505,
   "outputs": [
    {
     "name": "stdout",
     "output_type": "stream",
     "text": [
      "          sex       age   address  studytime  failures  schoolsup      paid  \\\n",
      "0    0.946975  1.021751 -0.534714  -0.042232 -0.449374   2.593843 -0.918506   \n",
      "1    0.946975  0.238078 -0.534714  -0.042232 -0.449374  -0.384552 -0.918506   \n",
      "2    0.946975 -1.329268 -0.534714  -0.042232  3.584777   2.593843  1.085968   \n",
      "3    0.946975 -1.329268 -0.534714   1.149321 -0.449374  -0.384552  1.085968   \n",
      "4    0.946975 -0.545595 -0.534714  -0.042232 -0.449374  -0.384552  1.085968   \n",
      "..        ...       ...       ...        ...       ...        ...       ...   \n",
      "390 -1.053320  2.589096 -0.534714  -0.042232  2.240060  -0.384552  1.085968   \n",
      "391 -1.053320  0.238078 -0.534714  -1.233786 -0.449374  -0.384552 -0.918506   \n",
      "392 -1.053320  3.372769  1.865423  -1.233786  3.584777  -0.384552 -0.918506   \n",
      "393 -1.053320  1.021751  1.865423  -1.233786 -0.449374  -0.384552 -0.918506   \n",
      "394 -1.053320  1.805423 -0.534714  -1.233786 -0.449374  -0.384552 -0.918506   \n",
      "\n",
      "     activities    higher  romantic    famrel   freetime       Walc    health  \\\n",
      "0     -1.016592  0.230648 -0.707552  0.062115   -0.235711 -1.002518 -0.398784   \n",
      "1     -1.016592  0.230648 -0.707552  1.177367   -0.235711 -1.002518 -0.398784   \n",
      "2     -1.016592  0.230648 -0.707552  0.062115   -0.235711  0.550402 -0.398784   \n",
      "3      0.981188  0.230648  1.409745 -1.053136   -1.236851 -1.002518  1.039751   \n",
      "4     -1.016592  0.230648 -0.707552  0.062115   -0.235711 -0.226058  1.039751   \n",
      "..          ...       ...       ...       ...         ...       ...       ...   \n",
      "390   -1.016592  0.230648 -0.707552  1.177367    1.766567  2.103322  0.320484   \n",
      "391   -1.016592  0.230648 -0.707552 -2.168388    0.765428  1.326862 -1.118051   \n",
      "392   -1.016592  0.230648 -0.707552  1.177367    1.766567  0.550402 -0.398784   \n",
      "393   -1.016592  0.230648 -0.707552  0.062115    0.765428  1.326862  1.039751   \n",
      "394   -1.016592  0.230648 -0.707552 -1.053136   -1.236851  0.550402  1.039751   \n",
      "\n",
      "     absences        G1        G2  \n",
      "0    0.036378 -1.780209 -1.253202  \n",
      "1   -0.213525 -1.780209 -1.519053  \n",
      "2    0.536185 -1.177653 -0.721500  \n",
      "3   -0.463428  1.232570  0.873607  \n",
      "4   -0.213525 -1.478931 -0.189797  \n",
      "..        ...       ...       ...  \n",
      "390  0.661137 -0.575098 -0.455649  \n",
      "391 -0.338477  0.931292  1.405309  \n",
      "392 -0.338477 -0.273820 -0.721500  \n",
      "393 -0.713332  0.027458  0.341905  \n",
      "394 -0.088573 -0.876375 -0.455649  \n",
      "\n",
      "[395 rows x 17 columns]\n"
     ]
    },
    {
     "name": "stderr",
     "output_type": "stream",
     "text": [
      "/var/folders/p5/lqmtl3dd4b7_xq65rgrxjh580000gn/T/ipykernel_9007/146165699.py:4: FutureWarning: Support for multi-dimensional indexing (e.g. `obj[:, None]`) is deprecated and will be removed in a future version.  Convert to a numpy array before indexing instead.\n",
      "  x_t = x_train - mean[None, :]\n",
      "/var/folders/p5/lqmtl3dd4b7_xq65rgrxjh580000gn/T/ipykernel_9007/146165699.py:5: FutureWarning: Support for multi-dimensional indexing (e.g. `obj[:, None]`) is deprecated and will be removed in a future version.  Convert to a numpy array before indexing instead.\n",
      "  x_t /= std[None, :]\n"
     ]
    }
   ],
   "source": [
    "def standarize(x_train):\n",
    "    mean = x_train.mean(0)\n",
    "    std = x_train.std(0)\n",
    "    x_t = x_train - mean[None, :]\n",
    "    x_t /= std[None, :]\n",
    "    return x_t\n",
    "\n",
    "x_t = standarize(x_df)\n",
    "\n",
    "print(x_t)\n"
   ],
   "metadata": {
    "collapsed": false,
    "pycharm": {
     "name": "#%%\n"
    }
   }
  },
  {
   "cell_type": "code",
   "execution_count": 506,
   "outputs": [
    {
     "name": "stdout",
     "output_type": "stream",
     "text": [
      "     sex       age  address  studytime  failures  schoolsup  paid  activities  \\\n",
      "0    1.0  0.428571      0.0   0.333333  0.000000        1.0   0.0         0.0   \n",
      "1    1.0  0.285714      0.0   0.333333  0.000000        0.0   0.0         0.0   \n",
      "2    1.0  0.000000      0.0   0.333333  1.000000        1.0   1.0         0.0   \n",
      "3    1.0  0.000000      0.0   0.666667  0.000000        0.0   1.0         1.0   \n",
      "4    1.0  0.142857      0.0   0.333333  0.000000        0.0   1.0         0.0   \n",
      "..   ...       ...      ...        ...       ...        ...   ...         ...   \n",
      "390  0.0  0.714286      0.0   0.333333  0.666667        0.0   1.0         0.0   \n",
      "391  0.0  0.285714      0.0   0.000000  0.000000        0.0   0.0         0.0   \n",
      "392  0.0  0.857143      1.0   0.000000  1.000000        0.0   0.0         0.0   \n",
      "393  0.0  0.428571      1.0   0.000000  0.000000        0.0   0.0         0.0   \n",
      "394  0.0  0.571429      0.0   0.000000  0.000000        0.0   0.0         0.0   \n",
      "\n",
      "     higher  romantic  famrel   freetime   Walc  health  absences      G1  \\\n",
      "0       1.0       0.0    0.75        0.50  0.00    0.50  0.080000  0.1250   \n",
      "1       1.0       0.0    1.00        0.50  0.00    0.50  0.053333  0.1250   \n",
      "2       1.0       0.0    0.75        0.50  0.50    0.50  0.133333  0.2500   \n",
      "3       1.0       1.0    0.50        0.25  0.00    1.00  0.026667  0.7500   \n",
      "4       1.0       0.0    0.75        0.50  0.25    1.00  0.053333  0.1875   \n",
      "..      ...       ...     ...         ...   ...     ...       ...     ...   \n",
      "390     1.0       0.0    1.00        1.00  1.00    0.75  0.146667  0.3750   \n",
      "391     1.0       0.0    0.25        0.75  0.75    0.25  0.040000  0.6875   \n",
      "392     1.0       0.0    1.00        1.00  0.50    0.50  0.040000  0.4375   \n",
      "393     1.0       0.0    0.75        0.75  0.75    1.00  0.000000  0.5000   \n",
      "394     1.0       0.0    0.50        0.25  0.50    1.00  0.066667  0.3125   \n",
      "\n",
      "           G2  \n",
      "0    0.315789  \n",
      "1    0.263158  \n",
      "2    0.421053  \n",
      "3    0.736842  \n",
      "4    0.526316  \n",
      "..        ...  \n",
      "390  0.473684  \n",
      "391  0.842105  \n",
      "392  0.421053  \n",
      "393  0.631579  \n",
      "394  0.473684  \n",
      "\n",
      "[395 rows x 17 columns]\n"
     ]
    },
    {
     "ename": "TypeError",
     "evalue": "'(slice(None, None, None), 1)' is an invalid key",
     "output_type": "error",
     "traceback": [
      "\u001B[0;31m---------------------------------------------------------------------------\u001B[0m",
      "\u001B[0;31mTypeError\u001B[0m                                 Traceback (most recent call last)",
      "\u001B[0;32m/var/folders/p5/lqmtl3dd4b7_xq65rgrxjh580000gn/T/ipykernel_9007/718331380.py\u001B[0m in \u001B[0;36m<module>\u001B[0;34m\u001B[0m\n\u001B[1;32m      4\u001B[0m \u001B[0mplt\u001B[0m\u001B[0;34m.\u001B[0m\u001B[0mxlabel\u001B[0m\u001B[0;34m(\u001B[0m\u001B[0;34m\"Attribute Value\"\u001B[0m\u001B[0;34m)\u001B[0m\u001B[0;34m\u001B[0m\u001B[0;34m\u001B[0m\u001B[0m\n\u001B[1;32m      5\u001B[0m \u001B[0mplt\u001B[0m\u001B[0;34m.\u001B[0m\u001B[0mylabel\u001B[0m\u001B[0;34m(\u001B[0m\u001B[0;34m\"Count\"\u001B[0m\u001B[0;34m)\u001B[0m\u001B[0;34m\u001B[0m\u001B[0;34m\u001B[0m\u001B[0m\n\u001B[0;32m----> 6\u001B[0;31m \u001B[0mhist\u001B[0m \u001B[0;34m=\u001B[0m \u001B[0mplt\u001B[0m\u001B[0;34m.\u001B[0m\u001B[0mhist\u001B[0m\u001B[0;34m(\u001B[0m\u001B[0mx_t\u001B[0m\u001B[0;34m[\u001B[0m\u001B[0;34m:\u001B[0m\u001B[0;34m,\u001B[0m\u001B[0;36m1\u001B[0m\u001B[0;34m]\u001B[0m\u001B[0;34m,\u001B[0m \u001B[0mbins\u001B[0m\u001B[0;34m=\u001B[0m\u001B[0;36m11\u001B[0m\u001B[0;34m,\u001B[0m \u001B[0mrange\u001B[0m\u001B[0;34m=\u001B[0m\u001B[0;34m[\u001B[0m\u001B[0mnp\u001B[0m\u001B[0;34m.\u001B[0m\u001B[0mmin\u001B[0m\u001B[0;34m(\u001B[0m\u001B[0mx_t\u001B[0m\u001B[0;34m[\u001B[0m\u001B[0;34m:\u001B[0m\u001B[0;34m,\u001B[0m\u001B[0;36m0\u001B[0m\u001B[0;34m]\u001B[0m\u001B[0;34m)\u001B[0m\u001B[0;34m,\u001B[0m \u001B[0mnp\u001B[0m\u001B[0;34m.\u001B[0m\u001B[0mmax\u001B[0m\u001B[0;34m(\u001B[0m\u001B[0mx_t\u001B[0m\u001B[0;34m[\u001B[0m\u001B[0;34m:\u001B[0m\u001B[0;34m,\u001B[0m\u001B[0;36m0\u001B[0m\u001B[0;34m]\u001B[0m\u001B[0;34m)\u001B[0m\u001B[0;34m]\u001B[0m\u001B[0;34m,\u001B[0m \u001B[0mhisttype\u001B[0m\u001B[0;34m=\u001B[0m\u001B[0;34m\"bar\"\u001B[0m\u001B[0;34m,\u001B[0m \u001B[0mrwidth\u001B[0m\u001B[0;34m=\u001B[0m\u001B[0;36m0.8\u001B[0m\u001B[0;34m)\u001B[0m\u001B[0;34m\u001B[0m\u001B[0;34m\u001B[0m\u001B[0m\n\u001B[0m\u001B[1;32m      7\u001B[0m \u001B[0;34m\u001B[0m\u001B[0m\n",
      "\u001B[0;32m~/opt/anaconda3/envs/Aprenentatge_computacional/lib/python3.8/site-packages/pandas/core/frame.py\u001B[0m in \u001B[0;36m__getitem__\u001B[0;34m(self, key)\u001B[0m\n\u001B[1;32m   3456\u001B[0m             \u001B[0;32mif\u001B[0m \u001B[0mself\u001B[0m\u001B[0;34m.\u001B[0m\u001B[0mcolumns\u001B[0m\u001B[0;34m.\u001B[0m\u001B[0mnlevels\u001B[0m \u001B[0;34m>\u001B[0m \u001B[0;36m1\u001B[0m\u001B[0;34m:\u001B[0m\u001B[0;34m\u001B[0m\u001B[0;34m\u001B[0m\u001B[0m\n\u001B[1;32m   3457\u001B[0m                 \u001B[0;32mreturn\u001B[0m \u001B[0mself\u001B[0m\u001B[0;34m.\u001B[0m\u001B[0m_getitem_multilevel\u001B[0m\u001B[0;34m(\u001B[0m\u001B[0mkey\u001B[0m\u001B[0;34m)\u001B[0m\u001B[0;34m\u001B[0m\u001B[0;34m\u001B[0m\u001B[0m\n\u001B[0;32m-> 3458\u001B[0;31m             \u001B[0mindexer\u001B[0m \u001B[0;34m=\u001B[0m \u001B[0mself\u001B[0m\u001B[0;34m.\u001B[0m\u001B[0mcolumns\u001B[0m\u001B[0;34m.\u001B[0m\u001B[0mget_loc\u001B[0m\u001B[0;34m(\u001B[0m\u001B[0mkey\u001B[0m\u001B[0;34m)\u001B[0m\u001B[0;34m\u001B[0m\u001B[0;34m\u001B[0m\u001B[0m\n\u001B[0m\u001B[1;32m   3459\u001B[0m             \u001B[0;32mif\u001B[0m \u001B[0mis_integer\u001B[0m\u001B[0;34m(\u001B[0m\u001B[0mindexer\u001B[0m\u001B[0;34m)\u001B[0m\u001B[0;34m:\u001B[0m\u001B[0;34m\u001B[0m\u001B[0;34m\u001B[0m\u001B[0m\n\u001B[1;32m   3460\u001B[0m                 \u001B[0mindexer\u001B[0m \u001B[0;34m=\u001B[0m \u001B[0;34m[\u001B[0m\u001B[0mindexer\u001B[0m\u001B[0;34m]\u001B[0m\u001B[0;34m\u001B[0m\u001B[0;34m\u001B[0m\u001B[0m\n",
      "\u001B[0;32m~/opt/anaconda3/envs/Aprenentatge_computacional/lib/python3.8/site-packages/pandas/core/indexes/base.py\u001B[0m in \u001B[0;36mget_loc\u001B[0;34m(self, key, method, tolerance)\u001B[0m\n\u001B[1;32m   3359\u001B[0m             \u001B[0mcasted_key\u001B[0m \u001B[0;34m=\u001B[0m \u001B[0mself\u001B[0m\u001B[0;34m.\u001B[0m\u001B[0m_maybe_cast_indexer\u001B[0m\u001B[0;34m(\u001B[0m\u001B[0mkey\u001B[0m\u001B[0;34m)\u001B[0m\u001B[0;34m\u001B[0m\u001B[0;34m\u001B[0m\u001B[0m\n\u001B[1;32m   3360\u001B[0m             \u001B[0;32mtry\u001B[0m\u001B[0;34m:\u001B[0m\u001B[0;34m\u001B[0m\u001B[0;34m\u001B[0m\u001B[0m\n\u001B[0;32m-> 3361\u001B[0;31m                 \u001B[0;32mreturn\u001B[0m \u001B[0mself\u001B[0m\u001B[0;34m.\u001B[0m\u001B[0m_engine\u001B[0m\u001B[0;34m.\u001B[0m\u001B[0mget_loc\u001B[0m\u001B[0;34m(\u001B[0m\u001B[0mcasted_key\u001B[0m\u001B[0;34m)\u001B[0m\u001B[0;34m\u001B[0m\u001B[0;34m\u001B[0m\u001B[0m\n\u001B[0m\u001B[1;32m   3362\u001B[0m             \u001B[0;32mexcept\u001B[0m \u001B[0mKeyError\u001B[0m \u001B[0;32mas\u001B[0m \u001B[0merr\u001B[0m\u001B[0;34m:\u001B[0m\u001B[0;34m\u001B[0m\u001B[0;34m\u001B[0m\u001B[0m\n\u001B[1;32m   3363\u001B[0m                 \u001B[0;32mraise\u001B[0m \u001B[0mKeyError\u001B[0m\u001B[0;34m(\u001B[0m\u001B[0mkey\u001B[0m\u001B[0;34m)\u001B[0m \u001B[0;32mfrom\u001B[0m \u001B[0merr\u001B[0m\u001B[0;34m\u001B[0m\u001B[0;34m\u001B[0m\u001B[0m\n",
      "\u001B[0;32m~/opt/anaconda3/envs/Aprenentatge_computacional/lib/python3.8/site-packages/pandas/_libs/index.pyx\u001B[0m in \u001B[0;36mpandas._libs.index.IndexEngine.get_loc\u001B[0;34m()\u001B[0m\n",
      "\u001B[0;32m~/opt/anaconda3/envs/Aprenentatge_computacional/lib/python3.8/site-packages/pandas/_libs/index.pyx\u001B[0m in \u001B[0;36mpandas._libs.index.IndexEngine.get_loc\u001B[0;34m()\u001B[0m\n",
      "\u001B[0;31mTypeError\u001B[0m: '(slice(None, None, None), 1)' is an invalid key"
     ]
    },
    {
     "data": {
      "text/plain": "<Figure size 432x288 with 1 Axes>",
      "image/png": "[encoded data removed]"
     },
     "metadata": {
      "needs_background": "light"
     },
     "output_type": "display_data"
    }
   ],
   "source": [
    "print(x_df)\n",
    "plt.figure()\n",
    "plt.title(\"Histograma de l'atribut 0\")\n",
    "plt.xlabel(\"Attribute Value\")\n",
    "plt.ylabel(\"Count\")\n",
    "hist = plt.hist(x_t[:,1], bins=11, range=[np.min(x_t[:,0]), np.max(x_t[:,0])], histtype=\"bar\", rwidth=0.8)"
   ],
   "metadata": {
    "collapsed": false,
    "pycharm": {
     "name": "#%%\n"
    }
   }
  },
  {
   "cell_type": "code",
   "execution_count": 507,
   "outputs": [
    {
     "name": "stderr",
     "output_type": "stream",
     "text": [
      "/var/folders/p5/lqmtl3dd4b7_xq65rgrxjh580000gn/T/ipykernel_9007/1831816588.py:1: FutureWarning: In a future version of pandas all arguments of DataFrame.drop except for the argument 'labels' will be keyword-only\n",
      "  data.drop(['age'],1).hist()\n"
     ]
    },
    {
     "data": {
      "text/plain": "array([[<AxesSubplot:title={'center':'sex'}>,\n        <AxesSubplot:title={'center':'address'}>,\n        <AxesSubplot:title={'center':'studytime'}>,\n        <AxesSubplot:title={'center':'failures'}>],\n       [<AxesSubplot:title={'center':'schoolsup'}>,\n        <AxesSubplot:title={'center':'paid'}>,\n        <AxesSubplot:title={'center':'activities'}>,\n        <AxesSubplot:title={'center':'higher'}>],\n       [<AxesSubplot:title={'center':'romantic'}>,\n        <AxesSubplot:title={'center':'famrel'}>,\n        <AxesSubplot:title={'center':'freetime'}>,\n        <AxesSubplot:title={'center':'Walc'}>],\n       [<AxesSubplot:title={'center':'health'}>,\n        <AxesSubplot:title={'center':'absences'}>,\n        <AxesSubplot:title={'center':'G1'}>,\n        <AxesSubplot:title={'center':'G2'}>],\n       [<AxesSubplot:title={'center':'G3'}>, <AxesSubplot:>,\n        <AxesSubplot:>, <AxesSubplot:>]], dtype=object)"
     },
     "execution_count": 507,
     "metadata": {},
     "output_type": "execute_result"
    },
    {
     "data": {
      "text/plain": "<Figure size 432x288 with 20 Axes>",
      "image/png": "[encoded data removed]"
     },
     "metadata": {
      "needs_background": "light"
     },
     "output_type": "display_data"
    }
   ],
   "source": [
    "data.drop(['age'],1).hist()"
   ],
   "metadata": {
    "collapsed": false,
    "pycharm": {
     "name": "#%%\n"
    }
   }
  },
  {
   "cell_type": "code",
   "execution_count": 511,
   "outputs": [],
   "source": [
    "x = x_df.to_numpy()\n",
    "y =  y_df.to_numpy()"
   ],
   "metadata": {
    "collapsed": false,
    "pycharm": {
     "name": "#%%\n"
    }
   }
  },
  {
   "cell_type": "code",
   "execution_count": 524,
   "outputs": [
    {
     "name": "stdout",
     "output_type": "stream",
     "text": [
      "[[1.         0.42857143 0.         ... 0.08       0.125      0.31578947]\n",
      " [1.         0.28571429 0.         ... 0.05333333 0.125      0.26315789]\n",
      " [1.         0.         0.         ... 0.13333333 0.25       0.42105263]\n",
      " ...\n",
      " [0.         0.85714286 1.         ... 0.04       0.4375     0.42105263]\n",
      " [0.         0.42857143 1.         ... 0.         0.5        0.63157895]\n",
      " [0.         0.57142857 0.         ... 0.06666667 0.3125     0.47368421]]\n",
      "[0.3  0.3  0.5  0.75 0.5  0.75 0.55 0.3  0.95 0.75 0.45 0.6  0.7  0.55\n",
      " 0.8  0.7  0.7  0.5  0.25 0.5  0.75 0.75 0.8  0.6  0.4  0.4  0.55 0.75\n",
      " 0.55 0.55 0.6  0.85 0.8  0.6  0.75 0.3  0.9  0.75 0.55 0.65 0.55 0.6\n",
      " 0.9  0.55 0.45 0.3  0.55 1.   0.7  0.35 0.65 0.65 0.5  0.55 0.65 0.5\n",
      " 0.75 0.75 0.45 0.8  0.55 0.55 0.45 0.45 0.5  0.75 0.6  0.3  0.4  0.8\n",
      " 0.75 0.5  0.25 0.7  0.55 0.5  0.5  0.55 0.5  0.25 0.6  0.55 0.3  0.75\n",
      " 0.5  0.4  0.3  0.7  0.5  0.35 0.4  0.9  0.3  0.5  0.7  0.5  0.75 0.5\n",
      " 0.7  0.4  0.25 0.85 0.7  0.3  0.9  0.55 0.4  0.9  0.65 0.8  0.95 0.5\n",
      " 0.65 0.95 0.45 0.8  0.7  0.65 0.4  0.65 0.75 0.75 0.65 0.65 0.4  0.6\n",
      " 0.55 0.45 0.   0.9  0.   0.   0.6  0.55 0.   0.   0.   0.   0.6  0.75\n",
      " 0.   0.45 0.55 0.65 0.   0.55 0.   0.55 0.   0.5  0.   0.7  0.5  0.\n",
      " 0.6  0.4  0.65 0.5  0.75 0.6  0.   0.35 0.   0.5  0.35 0.6  0.5  0.8\n",
      " 0.   0.7  0.   0.8  0.5  0.   0.45 0.45 0.55 0.3  0.45 0.55 0.4  0.6\n",
      " 0.85 0.4  0.6  0.55 0.55 0.75 0.45 0.5  0.65 0.45 0.4  0.5  0.7  0.75\n",
      " 0.8  0.5  0.9  0.5  0.8  0.5  0.5  0.3  0.55 0.45 0.35 0.65 0.5  0.35\n",
      " 0.4  0.65 0.7  0.4  0.5  0.75 0.2  0.4  0.4  0.5  0.3  0.   0.85 0.65\n",
      " 0.7  0.35 0.75 0.6  0.45 0.6  0.7  0.55 0.45 0.65 0.3  0.5  0.65 0.6\n",
      " 0.55 0.   0.6  0.6  0.   0.6  0.   0.9  0.65 0.4  0.25 0.75 0.4  0.5\n",
      " 0.4  0.4  0.6  0.4  0.65 0.55 0.7  0.   0.9  0.4  0.6  0.45 0.   0.85\n",
      " 0.5  0.55 0.5  0.   0.45 0.7  0.55 0.7  0.5  0.6  0.45 0.45 0.4  0.5\n",
      " 0.4  0.5  0.6  0.5  0.55 0.55 0.95 0.6  0.7  0.75 0.55 0.75 0.65 0.9\n",
      " 0.7  0.55 0.   0.4  0.7  0.8  0.55 0.5  0.7  0.9  0.65 0.6  0.9  0.4\n",
      " 0.6  0.5  0.   0.65 0.55 0.55 0.65 0.55 0.   0.45 0.5  0.55 0.65 0.45\n",
      " 0.55 0.75 0.75 0.55 0.8  0.5  0.45 0.7  0.4  0.7  0.   0.   0.   0.75\n",
      " 0.65 0.   0.85 0.5  0.55 0.   0.75 0.   0.5  0.7  0.8  0.45 0.75 0.65\n",
      " 0.4  0.65 0.4  0.4  0.55 0.45 0.65 0.55 0.5  0.8  0.65 0.6  0.5  0.75\n",
      " 0.6  0.5  0.65 0.   0.5  0.55 0.45 0.6  0.55 0.25 0.95 0.5  0.75 0.5\n",
      " 0.75 0.5  0.7  0.35 0.5  0.   0.25 0.5  0.3  0.   0.4  0.   0.45 0.8\n",
      " 0.35 0.5  0.45]\n",
      "Mean squeared error:  0.008375034246395569\n",
      "R2 score:  0.8399915363989907\n"
     ]
    },
    {
     "data": {
      "text/plain": "<Figure size 432x288 with 1 Axes>",
      "image/png": "[encoded data removed]"
     },
     "metadata": {
      "needs_background": "light"
     },
     "output_type": "display_data"
    }
   ],
   "source": [
    "from sklearn.metrics import r2_score\n",
    "\n",
    "\n",
    "atribut1 = x[:,:].reshape(x.shape[0], 17)\n",
    "print(x)\n",
    "print(y)\n",
    "\n",
    "regr = regression(atribut1, y_df)\n",
    "predicted = regr.predict(atribut1)\n",
    "\n",
    "# Mostrem la predicció del model entrenat en color vermell a la Figura anterior 1\n",
    "plt.figure()\n",
    "ax = plt.scatter(x[:,16], y)\n",
    "plt.plot(atribut1[:,16], predicted, 'r')\n",
    "\n",
    "# Mostrem l'error (MSE i R2)\n",
    "MSE = mse(y_df, predicted)\n",
    "r2 = r2_score(y_df, predicted)\n",
    "\n",
    "print(\"Mean squeared error: \", MSE)\n",
    "print(\"R2 score: \", r2)\n",
    "\n",
    "\n",
    "\n"
   ],
   "metadata": {
    "collapsed": false,
    "pycharm": {
     "name": "#%%\n"
    }
   }
  }
 ]
}